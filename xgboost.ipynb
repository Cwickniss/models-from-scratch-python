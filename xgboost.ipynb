{
 "cells": [
  {
   "cell_type": "markdown",
   "metadata": {},
   "source": [
    "# **XGBoost from Scratch in Python**\n",
    "## **Import Required Libraries**"
   ]
  },
  {
   "cell_type": "code",
   "execution_count": 1,
   "metadata": {},
   "outputs": [],
   "source": [
    "# Base Libraries\n",
    "import numpy as np\n",
    "import pandas as pd\n",
    "\n",
    "# Data Prep\n",
    "from sklearn.datasets import load_breast_cancer\n",
    "from sklearn.model_selection import train_test_split\n",
    "\n",
    "# Model Fine Tuning\n",
    "import optuna\n",
    "\n",
    "# Model Performance\n",
    "from sklearn.metrics import classification_report\n",
    "\n",
    "# Data Visualization\n",
    "import plotly.express as px"
   ]
  },
  {
   "cell_type": "markdown",
   "metadata": {},
   "source": [
    "## **Class Node**"
   ]
  },
  {
   "cell_type": "code",
   "execution_count": 2,
   "metadata": {},
   "outputs": [],
   "source": [
    "class Node:\n",
    "    \"\"\"\n",
    "    A node class for a decision tree.\n",
    "    \"\"\"\n",
    "    def __init__(self, x, gradient, hessian, idxs, subsample_cols=1 , min_leaf=5, min_child_weight=1 ,depth=10, lambda_=1, gamma=1, eps=0.1):\n",
    "        \"\"\"\n",
    "        Constructor to initialize the node with data and parameters.\n",
    "        Parameters:\n",
    "        - x: Input data for the node.\n",
    "        - gradient: Gradient information for gradient boosting.\n",
    "        - hessian: Hessian information for second-order optimization.\n",
    "        - idxs: Indices of the data points in the node.\n",
    "        - subsample_cols: Fraction of columns to consider for splitting.\n",
    "        - min_leaf: Minimum number of samples required in a leaf node.\n",
    "        - min_child_weight: Minimum sum of instance weight(hessian) needed in a child.\n",
    "        - depth: Maximum depth of the tree.\n",
    "        - lambda_: Regularization parameter.\n",
    "        - gamma: Minimum loss reduction required to make a further partition.\n",
    "        - eps: Epsilon value for quantile sketch method.\n",
    "        \"\"\"\n",
    "        self.x, self.gradient, self.hessian = x, gradient, hessian\n",
    "        self.idxs = idxs \n",
    "        self.depth = depth\n",
    "        self.min_leaf = min_leaf\n",
    "        self.lambda_ = lambda_\n",
    "        self.gamma  = gamma\n",
    "        self.min_child_weight = min_child_weight\n",
    "        self.row_count = len(idxs)\n",
    "        self.col_count = x.shape[1]\n",
    "        self.subsample_cols = subsample_cols\n",
    "        self.eps = eps\n",
    "        self.column_subsample = np.random.permutation(self.col_count)[:round(self.subsample_cols*self.col_count)]\n",
    "        self.val = self.compute_gamma(self.gradient[self.idxs], self.hessian[self.idxs])\n",
    "        self.score = float('-inf')\n",
    "        self.find_varsplit()\n",
    "        \n",
    "    def compute_gamma(self, gradient, hessian):\n",
    "        \"\"\"\n",
    "        Computes the gamma value for the node.\n",
    "        Gamma is calculated as negative sum of gradient divided by the sum of hessian plus lambda.\n",
    "        \n",
    "        Parameters:\n",
    "        - gradient: Gradient information for gradient boosting.\n",
    "        - hessian: Hessian information for second-order optimization.\n",
    "        \n",
    "        Returns:\n",
    "        - gamma: Gamma value for the node.\n",
    "        \"\"\"\n",
    "        return(-np.sum(gradient)/(np.sum(hessian) + self.lambda_))\n",
    "        \n",
    "    def find_varsplit(self):\n",
    "        \"\"\"\n",
    "        Identifies the best variable to split on.\n",
    "        Iterates through the subset of columns and finds the best greedy split.\n",
    "        \"\"\"\n",
    "        for c in self.column_subsample: self.find_greedy_split(c)\n",
    "        if self.is_leaf: return\n",
    "        x = self.split_col\n",
    "        lhs = np.nonzero(x <= self.split)[0]\n",
    "        rhs = np.nonzero(x > self.split)[0]\n",
    "        self.lhs = Node(x = self.x, gradient = self.gradient, hessian = self.hessian, idxs = self.idxs[lhs], min_leaf = self.min_leaf, depth = self.depth-1, lambda_ = self.lambda_ , gamma = self.gamma, min_child_weight = self.min_child_weight, eps = self.eps, subsample_cols = self.subsample_cols)\n",
    "        self.rhs = Node(x = self.x, gradient = self.gradient, hessian = self.hessian, idxs = self.idxs[rhs], min_leaf = self.min_leaf, depth = self.depth-1, lambda_ = self.lambda_ , gamma = self.gamma, min_child_weight = self.min_child_weight, eps = self.eps, subsample_cols = self.subsample_cols)\n",
    "        \n",
    "    def find_greedy_split(self, var_idx):\n",
    "        \"\"\"\n",
    "        Finds the best split point for a given variable using a greedy approach.\n",
    "        Iterates through each row and evaluates potential splits.\n",
    "\n",
    "        Parameters:\n",
    "        - var_idx: Index of the variable to split on.\n",
    "        \"\"\"\n",
    "        x = self.x[self.idxs, var_idx]\n",
    "        for r in range(self.row_count):\n",
    "            lhs = x <= x[r]\n",
    "            rhs = x > x[r]\n",
    "            lhs_indices = np.nonzero(lhs)[0]\n",
    "            rhs_indices = np.nonzero(rhs)[0]\n",
    "            lhs_sum = self.hessian[lhs_indices].sum()\n",
    "            rhs_sum = self.hessian[rhs_indices].sum()\n",
    "            # Ensures minimum leaf size and child weight before considering the split.\n",
    "            if(rhs.sum() < self.min_leaf or lhs.sum() < self.min_leaf \n",
    "               or lhs_sum < self.min_child_weight\n",
    "               or rhs_sum < self.min_child_weight): continue\n",
    "            curr_score = self.gain(lhs, rhs)\n",
    "            # Updates the best split if a better score is found.\n",
    "            if curr_score > self.score: \n",
    "                self.var_idx = var_idx\n",
    "                self.score = curr_score\n",
    "                self.split = x[r]\n",
    "                \n",
    "    def weighted_qauntile_sketch(self, var_idx):\n",
    "        \"\"\"\n",
    "        Finds the best split point for a given variable using a weighted quantile sketch approach.\n",
    "        Iterates through each row and evaluates potential splits.\n",
    "\n",
    "        Parameters:\n",
    "        - var_idx: Index of the variable to split on.\n",
    "        \"\"\"\n",
    "        x = self.x[self.idxs, var_idx]\n",
    "        hessian_ = self.hessian[self.idxs]\n",
    "        df = pd.DataFrame({'feature':x,'hess':hessian_})\n",
    "        df.sort_values(by=['feature'], ascending = True, inplace = True)\n",
    "        hess_sum = df['hess'].sum() \n",
    "        df['rank'] = df.apply(lambda x : (1/hess_sum)*sum(df[df['feature'] < x['feature']]['hess']), axis=1)\n",
    "        \n",
    "        for row in range(df.shape[0]-1):\n",
    "            # look at the current rank and the next ran\n",
    "            rk_sk_j, rk_sk_j_1 = df['rank'].iloc[row:row+2]\n",
    "            diff = abs(rk_sk_j - rk_sk_j_1)\n",
    "            if(diff >= self.eps):\n",
    "                continue\n",
    "                \n",
    "            split_value = (df['rank'].iloc[row+1] + df['rank'].iloc[row])/2\n",
    "            lhs = x <= split_value\n",
    "            rhs = x > split_value\n",
    "            \n",
    "            lhs_indices = np.nonzero(x <= split_value)[0]\n",
    "            rhs_indices = np.nonzero(x > split_value)[0]\n",
    "            if(rhs.sum() < self.min_leaf or lhs.sum() < self.min_leaf \n",
    "               or self.hessian[lhs_indices].sum() < self.min_child_weight\n",
    "               or self.hessian[rhs_indices].sum() < self.min_child_weight): continue\n",
    "                \n",
    "            curr_score = self.gain(lhs, rhs)\n",
    "            if curr_score > self.score: \n",
    "                self.var_idx = var_idx\n",
    "                self.score = curr_score\n",
    "                self.split = split_value\n",
    "                \n",
    "    def gain(self, lhs, rhs):\n",
    "        \"\"\"\n",
    "        Computes the gain in loss function for a given split.\n",
    "\n",
    "        Parameters:\n",
    "        - lhs: Left hand side of the split.\n",
    "        - rhs: Right hand side of the split.\n",
    "\n",
    "        Returns:\n",
    "        - gain: Gain in loss function for the split.\n",
    "        \"\"\"\n",
    "        gradient = self.gradient[self.idxs]\n",
    "        hessian  = self.hessian[self.idxs]\n",
    "        lhs_gradient = gradient[lhs].sum()\n",
    "        lhs_hessian  = hessian[lhs].sum()\n",
    "        rhs_gradient = gradient[rhs].sum()\n",
    "        rhs_hessian  = hessian[rhs].sum()\n",
    "        total_gradient = lhs_gradient + rhs_gradient\n",
    "        total_hessian = lhs_hessian + rhs_hessian\n",
    "        \n",
    "        gain = 0.5 *( (lhs_gradient**2/(lhs_hessian + self.lambda_)) + (rhs_gradient**2/(rhs_hessian + self.lambda_)) - (total_gradient**2/(total_hessian + self.lambda_))) - self.gamma\n",
    "        return(gain)\n",
    "                \n",
    "    @property\n",
    "    def split_col(self):\n",
    "        \"\"\"\n",
    "        Returns the column of the split variable.\n",
    "        \"\"\"\n",
    "        return self.x[self.idxs , self.var_idx]\n",
    "                \n",
    "    @property\n",
    "    def is_leaf(self):\n",
    "        \"\"\"\n",
    "        Returns True if the node is a leaf node.\n",
    "        \"\"\"\n",
    "        return self.score == float('-inf') or self.depth <= 0                 \n",
    "\n",
    "    def predict(self, x):\n",
    "        \"\"\"\n",
    "        Predicts the value for a given input.\n",
    "\n",
    "        Parameters:\n",
    "        - x: Input data.\n",
    "\n",
    "        Returns:\n",
    "        - np.array: Predicted values.\n",
    "        \"\"\"\n",
    "        return np.array([self.predict_row(xi) for xi in x])\n",
    "    \n",
    "    def predict_row(self, xi):\n",
    "        \"\"\"\n",
    "        Predicts the value for a given input row.\n",
    "\n",
    "        Parameters:\n",
    "        - xi: Input row.\n",
    "\n",
    "        Returns:\n",
    "        - np.array: Predicted value.\n",
    "        \"\"\"\n",
    "        if self.is_leaf:\n",
    "            return(self.val)\n",
    "\n",
    "        node = self.lhs if xi[self.var_idx] <= self.split else self.rhs\n",
    "        return node.predict_row(xi)"
   ]
  },
  {
   "cell_type": "markdown",
   "metadata": {},
   "source": [
    "## **XGBoost Tree Class**"
   ]
  },
  {
   "cell_type": "code",
   "execution_count": 3,
   "metadata": {},
   "outputs": [],
   "source": [
    "class XGBoostTree:\n",
    "    def fit(self, x, gradient, hessian, subsample_cols = 0.8 , min_leaf = 5, min_child_weight = 1 ,depth = 10, lambda_ = 1, gamma = 1, eps = 0.1):\n",
    "        \"\"\"\n",
    "        Fits a decision tree to the data.\n",
    "\n",
    "        Parameters:\n",
    "        - x: Input data.\n",
    "        - gradient: Gradient information for gradient boosting.\n",
    "        - hessian: Hessian information for second-order optimization.\n",
    "        - subsample_cols: Fraction of columns to consider for splitting.\n",
    "        - min_leaf: Minimum number of samples required in a leaf node.\n",
    "        - min_child_weight: Minimum sum of instance weight(hessian) needed in a child.\n",
    "        - depth: Maximum depth of the tree.\n",
    "        - lambda_: Regularization parameter.\n",
    "        - gamma: Minimum loss reduction required to make a further partition.\n",
    "        - eps: Epsilon value for quantile sketch method.\n",
    "\n",
    "        Returns:\n",
    "        - self: Trained decision tree.\n",
    "        \"\"\"\n",
    "        self.dtree = Node(x, gradient, hessian, np.array(np.arange(len(x))), subsample_cols, min_leaf, min_child_weight, depth, lambda_, gamma, eps)\n",
    "        return self\n",
    "    \n",
    "    def predict(self, X):\n",
    "        \"\"\"\n",
    "        Predicts the value for a given input.\n",
    "\n",
    "        Parameters:\n",
    "        - X: Input data.\n",
    "\n",
    "        Returns:\n",
    "        - np.array: Predicted values.\n",
    "        \"\"\"\n",
    "        return self.dtree.predict(X)"
   ]
  },
  {
   "cell_type": "markdown",
   "metadata": {},
   "source": [
    "## **XGBoost Classifier Class**"
   ]
  },
  {
   "cell_type": "code",
   "execution_count": 4,
   "metadata": {},
   "outputs": [],
   "source": [
    "class XGBoostClassifier:\n",
    "    def __init__(self, random_state=None):\n",
    "        self.estimators = []\n",
    "        self.random_state = random_state\n",
    "        np.random.seed(self.random_state)\n",
    "    \n",
    "    @staticmethod\n",
    "    def sigmoid(x):\n",
    "        \"\"\"\n",
    "        Computes the sigmoid function.\n",
    "        \n",
    "        Parameters:\n",
    "        - x: Input data.\n",
    "        \n",
    "        Returns:\n",
    "        - np.array: Sigmoid of the input data.\n",
    "        \"\"\"\n",
    "        return 1 / (1 + np.exp(-x))\n",
    "    \n",
    "    def grad(self, preds, labels):\n",
    "        \"\"\"\n",
    "        Computes the gradient of the log loss function.\n",
    "        \n",
    "        Parameters:\n",
    "        - preds: Predicted values.\n",
    "        - labels: Actual values.\n",
    "        \n",
    "        Returns:\n",
    "        - np.array: Gradient of the log loss function.\n",
    "        \"\"\"\n",
    "        preds = self.sigmoid(preds)\n",
    "        return(preds - labels)\n",
    "    \n",
    "    def hess(self, preds, labels):\n",
    "        \"\"\"\n",
    "        Computes the hessian of the log loss function.\n",
    "        \n",
    "        Parameters:\n",
    "        - preds: Predicted values.\n",
    "        \n",
    "        Returns:\n",
    "        - np.array: Hessian of the log loss function.\n",
    "        \"\"\"\n",
    "        preds = self.sigmoid(preds)\n",
    "        return(preds * (1 - preds))\n",
    "    \n",
    "    @staticmethod\n",
    "    def log_odds(column):\n",
    "        \"\"\"\n",
    "        Computes the log odds of a binary variable.\n",
    "\n",
    "        Parameters:\n",
    "        - column: Binary variable.\n",
    "\n",
    "        Returns:\n",
    "        - np.array: Log odds of the binary variable.\n",
    "        \"\"\"\n",
    "        binary_yes = np.count_nonzero(column == 1)\n",
    "        binary_no  = np.count_nonzero(column == 0)\n",
    "        return(np.log(binary_yes/binary_no))\n",
    "    \n",
    "    \n",
    "    def fit(self, X, y, subsample_cols=1 , min_child_weight=1, depth=5, min_leaf=5, learning_rate=0.1, boosting_rounds=10, lambda_=1.5, gamma=1, eps=0.1):\n",
    "        \"\"\"\n",
    "        Fits a gradient boosted decision tree to the data.\n",
    "\n",
    "        Parameters:\n",
    "        - X: Input data.\n",
    "        - y: Target variable.\n",
    "        - subsample_cols: Fraction of columns to consider for splitting.\n",
    "        - min_leaf: Minimum number of samples required in a leaf node.\n",
    "        - min_child_weight: Minimum sum of instance weight(hessian) needed in a child.\n",
    "        - depth: Maximum depth of the tree.\n",
    "        - lambda_: Regularization parameter.\n",
    "        - gamma: Minimum loss reduction required to make a further partition.\n",
    "        - eps: Epsilon value for quantile sketch method.\n",
    "        - learning_rate: Learning rate for gradient boosting.\n",
    "        - boosting_rounds: Number of boosting rounds.\n",
    "\n",
    "        Returns:\n",
    "        - self: Trained gradient boosted decision tree.\n",
    "        \"\"\"\n",
    "        self.X, self.y = X, y\n",
    "        self.depth = depth\n",
    "        self.subsample_cols = subsample_cols\n",
    "        self.eps = eps\n",
    "        self.min_child_weight = min_child_weight \n",
    "        self.min_leaf = min_leaf\n",
    "        self.learning_rate = learning_rate\n",
    "        self.boosting_rounds = boosting_rounds \n",
    "        self.lambda_ = lambda_\n",
    "        self.gamma  = gamma\n",
    "        self.base_pred = np.full((X.shape[0], 1), 1).flatten().astype('float64')\n",
    "        Grad = self.grad(self.base_pred, self.y)\n",
    "        Hess = self.hess(self.base_pred, self.y)\n",
    "        for _ in range(self.boosting_rounds):\n",
    "            boosting_tree = XGBoostTree().fit(self.X, Grad, Hess, depth = self.depth, min_leaf = self.min_leaf, lambda_ = self.lambda_, gamma = self.gamma, eps = self.eps, min_child_weight = self.min_child_weight, subsample_cols = self.subsample_cols)\n",
    "            self.base_pred += self.learning_rate * boosting_tree.predict(self.X)\n",
    "            self.estimators.append(boosting_tree)\n",
    "          \n",
    "    def predict_proba(self, X):\n",
    "        \"\"\"\n",
    "        Predicts the probability of the positive class for a given input.\n",
    "\n",
    "        Parameters:\n",
    "        - X: Input data.\n",
    "\n",
    "        Returns:\n",
    "        - np.array: Predicted probabilities.\n",
    "        \"\"\"\n",
    "        pred = np.zeros(X.shape[0])\n",
    "        \n",
    "        for estimator in self.estimators:\n",
    "            pred += self.learning_rate * estimator.predict(X) \n",
    "          \n",
    "        return self.sigmoid(np.full((X.shape[0], 1), 1).flatten().astype('float64') + pred)\n",
    "    \n",
    "    def predict(self, X):\n",
    "        pred = np.zeros(X.shape[0])\n",
    "        for estimator in self.estimators:\n",
    "            pred += self.learning_rate * estimator.predict(X) \n",
    "        \n",
    "        predicted_probas = self.sigmoid(np.full((X.shape[0], 1), 1).flatten().astype('float64') + pred)\n",
    "        preds = np.where(predicted_probas > np.mean(predicted_probas), 1, 0)\n",
    "        return preds"
   ]
  },
  {
   "cell_type": "markdown",
   "metadata": {},
   "source": [
    "## **Load Breast Cancer Data**"
   ]
  },
  {
   "cell_type": "code",
   "execution_count": 5,
   "metadata": {},
   "outputs": [],
   "source": [
    "data = load_breast_cancer()\n",
    "df = pd.DataFrame(data.data, columns=data.feature_names)"
   ]
  },
  {
   "cell_type": "markdown",
   "metadata": {},
   "source": [
    "## **EDA**\n",
    "### **Distribution of Mean Radius**"
   ]
  },
  {
   "cell_type": "code",
   "execution_count": 6,
   "metadata": {},
   "outputs": [
    {
     "data": {
      "application/vnd.plotly.v1+json": {
       "config": {
        "plotlyServerURL": "https://plot.ly"
       },
       "data": [
        {
         "alignmentgroup": "True",
         "bingroup": "x",
         "hovertemplate": "mean radius=%{x}<br>count=%{y}<extra></extra>",
         "legendgroup": "",
         "marker": {
          "color": "#636EFA",
          "pattern": {
           "shape": ""
          }
         },
         "name": "",
         "nbinsx": 20,
         "offsetgroup": "",
         "orientation": "v",
         "showlegend": false,
         "type": "histogram",
         "x": [
          17.99,
          20.57,
          19.69,
          11.42,
          20.29,
          12.45,
          18.25,
          13.71,
          13,
          12.46,
          16.02,
          15.78,
          19.17,
          15.85,
          13.73,
          14.54,
          14.68,
          16.13,
          19.81,
          13.54,
          13.08,
          9.504,
          15.34,
          21.16,
          16.65,
          17.14,
          14.58,
          18.61,
          15.3,
          17.57,
          18.63,
          11.84,
          17.02,
          19.27,
          16.13,
          16.74,
          14.25,
          13.03,
          14.99,
          13.48,
          13.44,
          10.95,
          19.07,
          13.28,
          13.17,
          18.65,
          8.196,
          13.17,
          12.05,
          13.49,
          11.76,
          13.64,
          11.94,
          18.22,
          15.1,
          11.52,
          19.21,
          14.71,
          13.05,
          8.618,
          10.17,
          8.598,
          14.25,
          9.173,
          12.68,
          14.78,
          9.465,
          11.31,
          9.029,
          12.78,
          18.94,
          8.888,
          17.2,
          13.8,
          12.31,
          16.07,
          13.53,
          18.05,
          20.18,
          12.86,
          11.45,
          13.34,
          25.22,
          19.1,
          12,
          18.46,
          14.48,
          19.02,
          12.36,
          14.64,
          14.62,
          15.37,
          13.27,
          13.45,
          15.06,
          20.26,
          12.18,
          9.787,
          11.6,
          14.42,
          13.61,
          6.981,
          12.18,
          9.876,
          10.49,
          13.11,
          11.64,
          12.36,
          22.27,
          11.34,
          9.777,
          12.63,
          14.26,
          10.51,
          8.726,
          11.93,
          8.95,
          14.87,
          15.78,
          17.95,
          11.41,
          18.66,
          24.25,
          14.5,
          13.37,
          13.85,
          13.61,
          19,
          15.1,
          19.79,
          12.19,
          15.46,
          16.16,
          15.71,
          18.45,
          12.77,
          11.71,
          11.43,
          14.95,
          11.28,
          9.738,
          16.11,
          11.43,
          12.9,
          10.75,
          11.9,
          11.8,
          14.95,
          14.44,
          13.74,
          13,
          8.219,
          9.731,
          11.15,
          13.15,
          12.25,
          17.68,
          16.84,
          12.06,
          10.9,
          11.75,
          19.19,
          19.59,
          12.34,
          23.27,
          14.97,
          10.8,
          16.78,
          17.47,
          14.97,
          12.32,
          13.43,
          15.46,
          11.08,
          10.66,
          8.671,
          9.904,
          16.46,
          13.01,
          12.81,
          27.22,
          21.09,
          15.7,
          11.41,
          15.28,
          10.08,
          18.31,
          11.71,
          11.81,
          12.3,
          14.22,
          12.77,
          9.72,
          12.34,
          14.86,
          12.91,
          13.77,
          18.08,
          19.18,
          14.45,
          12.23,
          17.54,
          23.29,
          13.81,
          12.47,
          15.12,
          9.876,
          17.01,
          13.11,
          15.27,
          20.58,
          11.84,
          28.11,
          17.42,
          14.19,
          13.86,
          11.89,
          10.2,
          19.8,
          19.53,
          13.65,
          13.56,
          10.18,
          15.75,
          13.27,
          14.34,
          10.44,
          15,
          12.62,
          12.83,
          17.05,
          11.32,
          11.22,
          20.51,
          9.567,
          14.03,
          23.21,
          20.48,
          14.22,
          17.46,
          13.64,
          12.42,
          11.3,
          13.75,
          19.4,
          10.48,
          13.2,
          12.89,
          10.65,
          11.52,
          20.94,
          11.5,
          19.73,
          17.3,
          19.45,
          13.96,
          19.55,
          15.32,
          15.66,
          15.53,
          20.31,
          17.35,
          17.29,
          15.61,
          17.19,
          20.73,
          10.6,
          13.59,
          12.87,
          10.71,
          14.29,
          11.29,
          21.75,
          9.742,
          17.93,
          11.89,
          11.33,
          18.81,
          13.59,
          13.85,
          19.16,
          11.74,
          19.4,
          16.24,
          12.89,
          12.58,
          11.94,
          12.89,
          11.26,
          11.37,
          14.41,
          14.96,
          12.95,
          11.85,
          12.72,
          13.77,
          10.91,
          11.76,
          14.26,
          10.51,
          19.53,
          12.46,
          20.09,
          10.49,
          11.46,
          11.6,
          13.2,
          9,
          13.5,
          13.05,
          11.7,
          14.61,
          12.76,
          11.54,
          8.597,
          12.49,
          12.18,
          18.22,
          9.042,
          12.43,
          10.25,
          20.16,
          12.86,
          20.34,
          12.2,
          12.67,
          14.11,
          12.03,
          16.27,
          16.26,
          16.03,
          12.98,
          11.22,
          11.25,
          12.3,
          17.06,
          12.99,
          18.77,
          10.05,
          23.51,
          14.42,
          9.606,
          11.06,
          19.68,
          11.71,
          10.26,
          12.06,
          14.76,
          11.47,
          11.95,
          11.66,
          15.75,
          25.73,
          15.08,
          11.14,
          12.56,
          13.05,
          13.87,
          8.878,
          9.436,
          12.54,
          13.3,
          12.76,
          16.5,
          13.4,
          20.44,
          20.2,
          12.21,
          21.71,
          22.01,
          16.35,
          15.19,
          21.37,
          20.64,
          13.69,
          16.17,
          10.57,
          13.46,
          13.66,
          11.08,
          11.27,
          11.04,
          12.05,
          12.39,
          13.28,
          14.6,
          12.21,
          13.88,
          11.27,
          19.55,
          10.26,
          8.734,
          15.49,
          21.61,
          12.1,
          14.06,
          13.51,
          12.8,
          11.06,
          11.8,
          17.91,
          11.93,
          12.96,
          12.94,
          12.34,
          10.94,
          16.14,
          12.85,
          17.99,
          12.27,
          11.36,
          11.04,
          9.397,
          14.99,
          15.13,
          11.89,
          9.405,
          15.5,
          12.7,
          11.16,
          11.57,
          14.69,
          11.61,
          13.66,
          9.742,
          10.03,
          10.48,
          10.8,
          11.13,
          12.72,
          14.9,
          12.4,
          20.18,
          18.82,
          14.86,
          13.98,
          12.87,
          14.04,
          13.85,
          14.02,
          10.97,
          17.27,
          13.78,
          10.57,
          18.03,
          11.99,
          17.75,
          14.8,
          14.53,
          21.1,
          11.87,
          19.59,
          12,
          14.53,
          12.62,
          13.38,
          11.63,
          13.21,
          13,
          9.755,
          17.08,
          27.42,
          14.4,
          11.6,
          13.17,
          13.24,
          13.14,
          9.668,
          17.6,
          11.62,
          9.667,
          12.04,
          14.92,
          12.27,
          10.88,
          12.83,
          14.2,
          13.9,
          11.49,
          16.25,
          12.16,
          13.9,
          13.47,
          13.7,
          15.73,
          12.45,
          14.64,
          19.44,
          11.68,
          16.69,
          12.25,
          17.85,
          18.01,
          12.46,
          13.16,
          14.87,
          12.65,
          12.47,
          18.49,
          20.59,
          15.04,
          13.82,
          12.54,
          23.09,
          9.268,
          9.676,
          12.22,
          11.06,
          16.3,
          15.46,
          11.74,
          14.81,
          13.4,
          14.58,
          15.05,
          11.34,
          18.31,
          19.89,
          12.88,
          12.75,
          9.295,
          24.63,
          11.26,
          13.71,
          9.847,
          8.571,
          13.46,
          12.34,
          13.94,
          12.07,
          11.75,
          11.67,
          13.68,
          20.47,
          10.96,
          20.55,
          14.27,
          11.69,
          7.729,
          7.691,
          11.54,
          14.47,
          14.74,
          13.21,
          13.87,
          13.62,
          10.32,
          10.26,
          9.683,
          10.82,
          10.86,
          11.13,
          12.77,
          9.333,
          12.88,
          10.29,
          10.16,
          9.423,
          14.59,
          11.51,
          14.05,
          11.2,
          15.22,
          20.92,
          21.56,
          20.13,
          16.6,
          20.6,
          7.76
         ],
         "xaxis": "x",
         "yaxis": "y"
        }
       ],
       "layout": {
        "barmode": "relative",
        "font": {
         "color": "#7f7f7f",
         "family": "Courier New, monospace",
         "size": 14
        },
        "legend": {
         "tracegroupgap": 0
        },
        "template": {
         "data": {
          "bar": [
           {
            "error_x": {
             "color": "#f2f5fa"
            },
            "error_y": {
             "color": "#f2f5fa"
            },
            "marker": {
             "line": {
              "color": "rgb(17,17,17)",
              "width": 0.5
             },
             "pattern": {
              "fillmode": "overlay",
              "size": 10,
              "solidity": 0.2
             }
            },
            "type": "bar"
           }
          ],
          "barpolar": [
           {
            "marker": {
             "line": {
              "color": "rgb(17,17,17)",
              "width": 0.5
             },
             "pattern": {
              "fillmode": "overlay",
              "size": 10,
              "solidity": 0.2
             }
            },
            "type": "barpolar"
           }
          ],
          "carpet": [
           {
            "aaxis": {
             "endlinecolor": "#A2B1C6",
             "gridcolor": "#506784",
             "linecolor": "#506784",
             "minorgridcolor": "#506784",
             "startlinecolor": "#A2B1C6"
            },
            "baxis": {
             "endlinecolor": "#A2B1C6",
             "gridcolor": "#506784",
             "linecolor": "#506784",
             "minorgridcolor": "#506784",
             "startlinecolor": "#A2B1C6"
            },
            "type": "carpet"
           }
          ],
          "choropleth": [
           {
            "colorbar": {
             "outlinewidth": 0,
             "ticks": ""
            },
            "type": "choropleth"
           }
          ],
          "contour": [
           {
            "colorbar": {
             "outlinewidth": 0,
             "ticks": ""
            },
            "colorscale": [
             [
              0,
              "#0d0887"
             ],
             [
              0.1111111111111111,
              "#46039f"
             ],
             [
              0.2222222222222222,
              "#7201a8"
             ],
             [
              0.3333333333333333,
              "#9c179e"
             ],
             [
              0.4444444444444444,
              "#bd3786"
             ],
             [
              0.5555555555555556,
              "#d8576b"
             ],
             [
              0.6666666666666666,
              "#ed7953"
             ],
             [
              0.7777777777777778,
              "#fb9f3a"
             ],
             [
              0.8888888888888888,
              "#fdca26"
             ],
             [
              1,
              "#f0f921"
             ]
            ],
            "type": "contour"
           }
          ],
          "contourcarpet": [
           {
            "colorbar": {
             "outlinewidth": 0,
             "ticks": ""
            },
            "type": "contourcarpet"
           }
          ],
          "heatmap": [
           {
            "colorbar": {
             "outlinewidth": 0,
             "ticks": ""
            },
            "colorscale": [
             [
              0,
              "#0d0887"
             ],
             [
              0.1111111111111111,
              "#46039f"
             ],
             [
              0.2222222222222222,
              "#7201a8"
             ],
             [
              0.3333333333333333,
              "#9c179e"
             ],
             [
              0.4444444444444444,
              "#bd3786"
             ],
             [
              0.5555555555555556,
              "#d8576b"
             ],
             [
              0.6666666666666666,
              "#ed7953"
             ],
             [
              0.7777777777777778,
              "#fb9f3a"
             ],
             [
              0.8888888888888888,
              "#fdca26"
             ],
             [
              1,
              "#f0f921"
             ]
            ],
            "type": "heatmap"
           }
          ],
          "heatmapgl": [
           {
            "colorbar": {
             "outlinewidth": 0,
             "ticks": ""
            },
            "colorscale": [
             [
              0,
              "#0d0887"
             ],
             [
              0.1111111111111111,
              "#46039f"
             ],
             [
              0.2222222222222222,
              "#7201a8"
             ],
             [
              0.3333333333333333,
              "#9c179e"
             ],
             [
              0.4444444444444444,
              "#bd3786"
             ],
             [
              0.5555555555555556,
              "#d8576b"
             ],
             [
              0.6666666666666666,
              "#ed7953"
             ],
             [
              0.7777777777777778,
              "#fb9f3a"
             ],
             [
              0.8888888888888888,
              "#fdca26"
             ],
             [
              1,
              "#f0f921"
             ]
            ],
            "type": "heatmapgl"
           }
          ],
          "histogram": [
           {
            "marker": {
             "pattern": {
              "fillmode": "overlay",
              "size": 10,
              "solidity": 0.2
             }
            },
            "type": "histogram"
           }
          ],
          "histogram2d": [
           {
            "colorbar": {
             "outlinewidth": 0,
             "ticks": ""
            },
            "colorscale": [
             [
              0,
              "#0d0887"
             ],
             [
              0.1111111111111111,
              "#46039f"
             ],
             [
              0.2222222222222222,
              "#7201a8"
             ],
             [
              0.3333333333333333,
              "#9c179e"
             ],
             [
              0.4444444444444444,
              "#bd3786"
             ],
             [
              0.5555555555555556,
              "#d8576b"
             ],
             [
              0.6666666666666666,
              "#ed7953"
             ],
             [
              0.7777777777777778,
              "#fb9f3a"
             ],
             [
              0.8888888888888888,
              "#fdca26"
             ],
             [
              1,
              "#f0f921"
             ]
            ],
            "type": "histogram2d"
           }
          ],
          "histogram2dcontour": [
           {
            "colorbar": {
             "outlinewidth": 0,
             "ticks": ""
            },
            "colorscale": [
             [
              0,
              "#0d0887"
             ],
             [
              0.1111111111111111,
              "#46039f"
             ],
             [
              0.2222222222222222,
              "#7201a8"
             ],
             [
              0.3333333333333333,
              "#9c179e"
             ],
             [
              0.4444444444444444,
              "#bd3786"
             ],
             [
              0.5555555555555556,
              "#d8576b"
             ],
             [
              0.6666666666666666,
              "#ed7953"
             ],
             [
              0.7777777777777778,
              "#fb9f3a"
             ],
             [
              0.8888888888888888,
              "#fdca26"
             ],
             [
              1,
              "#f0f921"
             ]
            ],
            "type": "histogram2dcontour"
           }
          ],
          "mesh3d": [
           {
            "colorbar": {
             "outlinewidth": 0,
             "ticks": ""
            },
            "type": "mesh3d"
           }
          ],
          "parcoords": [
           {
            "line": {
             "colorbar": {
              "outlinewidth": 0,
              "ticks": ""
             }
            },
            "type": "parcoords"
           }
          ],
          "pie": [
           {
            "automargin": true,
            "type": "pie"
           }
          ],
          "scatter": [
           {
            "marker": {
             "line": {
              "color": "#283442"
             }
            },
            "type": "scatter"
           }
          ],
          "scatter3d": [
           {
            "line": {
             "colorbar": {
              "outlinewidth": 0,
              "ticks": ""
             }
            },
            "marker": {
             "colorbar": {
              "outlinewidth": 0,
              "ticks": ""
             }
            },
            "type": "scatter3d"
           }
          ],
          "scattercarpet": [
           {
            "marker": {
             "colorbar": {
              "outlinewidth": 0,
              "ticks": ""
             }
            },
            "type": "scattercarpet"
           }
          ],
          "scattergeo": [
           {
            "marker": {
             "colorbar": {
              "outlinewidth": 0,
              "ticks": ""
             }
            },
            "type": "scattergeo"
           }
          ],
          "scattergl": [
           {
            "marker": {
             "line": {
              "color": "#283442"
             }
            },
            "type": "scattergl"
           }
          ],
          "scattermapbox": [
           {
            "marker": {
             "colorbar": {
              "outlinewidth": 0,
              "ticks": ""
             }
            },
            "type": "scattermapbox"
           }
          ],
          "scatterpolar": [
           {
            "marker": {
             "colorbar": {
              "outlinewidth": 0,
              "ticks": ""
             }
            },
            "type": "scatterpolar"
           }
          ],
          "scatterpolargl": [
           {
            "marker": {
             "colorbar": {
              "outlinewidth": 0,
              "ticks": ""
             }
            },
            "type": "scatterpolargl"
           }
          ],
          "scatterternary": [
           {
            "marker": {
             "colorbar": {
              "outlinewidth": 0,
              "ticks": ""
             }
            },
            "type": "scatterternary"
           }
          ],
          "surface": [
           {
            "colorbar": {
             "outlinewidth": 0,
             "ticks": ""
            },
            "colorscale": [
             [
              0,
              "#0d0887"
             ],
             [
              0.1111111111111111,
              "#46039f"
             ],
             [
              0.2222222222222222,
              "#7201a8"
             ],
             [
              0.3333333333333333,
              "#9c179e"
             ],
             [
              0.4444444444444444,
              "#bd3786"
             ],
             [
              0.5555555555555556,
              "#d8576b"
             ],
             [
              0.6666666666666666,
              "#ed7953"
             ],
             [
              0.7777777777777778,
              "#fb9f3a"
             ],
             [
              0.8888888888888888,
              "#fdca26"
             ],
             [
              1,
              "#f0f921"
             ]
            ],
            "type": "surface"
           }
          ],
          "table": [
           {
            "cells": {
             "fill": {
              "color": "#506784"
             },
             "line": {
              "color": "rgb(17,17,17)"
             }
            },
            "header": {
             "fill": {
              "color": "#2a3f5f"
             },
             "line": {
              "color": "rgb(17,17,17)"
             }
            },
            "type": "table"
           }
          ]
         },
         "layout": {
          "annotationdefaults": {
           "arrowcolor": "#f2f5fa",
           "arrowhead": 0,
           "arrowwidth": 1
          },
          "autotypenumbers": "strict",
          "coloraxis": {
           "colorbar": {
            "outlinewidth": 0,
            "ticks": ""
           }
          },
          "colorscale": {
           "diverging": [
            [
             0,
             "#8e0152"
            ],
            [
             0.1,
             "#c51b7d"
            ],
            [
             0.2,
             "#de77ae"
            ],
            [
             0.3,
             "#f1b6da"
            ],
            [
             0.4,
             "#fde0ef"
            ],
            [
             0.5,
             "#f7f7f7"
            ],
            [
             0.6,
             "#e6f5d0"
            ],
            [
             0.7,
             "#b8e186"
            ],
            [
             0.8,
             "#7fbc41"
            ],
            [
             0.9,
             "#4d9221"
            ],
            [
             1,
             "#276419"
            ]
           ],
           "sequential": [
            [
             0,
             "#0d0887"
            ],
            [
             0.1111111111111111,
             "#46039f"
            ],
            [
             0.2222222222222222,
             "#7201a8"
            ],
            [
             0.3333333333333333,
             "#9c179e"
            ],
            [
             0.4444444444444444,
             "#bd3786"
            ],
            [
             0.5555555555555556,
             "#d8576b"
            ],
            [
             0.6666666666666666,
             "#ed7953"
            ],
            [
             0.7777777777777778,
             "#fb9f3a"
            ],
            [
             0.8888888888888888,
             "#fdca26"
            ],
            [
             1,
             "#f0f921"
            ]
           ],
           "sequentialminus": [
            [
             0,
             "#0d0887"
            ],
            [
             0.1111111111111111,
             "#46039f"
            ],
            [
             0.2222222222222222,
             "#7201a8"
            ],
            [
             0.3333333333333333,
             "#9c179e"
            ],
            [
             0.4444444444444444,
             "#bd3786"
            ],
            [
             0.5555555555555556,
             "#d8576b"
            ],
            [
             0.6666666666666666,
             "#ed7953"
            ],
            [
             0.7777777777777778,
             "#fb9f3a"
            ],
            [
             0.8888888888888888,
             "#fdca26"
            ],
            [
             1,
             "#f0f921"
            ]
           ]
          },
          "colorway": [
           "#636efa",
           "#EF553B",
           "#00cc96",
           "#ab63fa",
           "#FFA15A",
           "#19d3f3",
           "#FF6692",
           "#B6E880",
           "#FF97FF",
           "#FECB52"
          ],
          "font": {
           "color": "#f2f5fa"
          },
          "geo": {
           "bgcolor": "rgb(17,17,17)",
           "lakecolor": "rgb(17,17,17)",
           "landcolor": "rgb(17,17,17)",
           "showlakes": true,
           "showland": true,
           "subunitcolor": "#506784"
          },
          "hoverlabel": {
           "align": "left"
          },
          "hovermode": "closest",
          "mapbox": {
           "style": "dark"
          },
          "paper_bgcolor": "rgb(17,17,17)",
          "plot_bgcolor": "rgb(17,17,17)",
          "polar": {
           "angularaxis": {
            "gridcolor": "#506784",
            "linecolor": "#506784",
            "ticks": ""
           },
           "bgcolor": "rgb(17,17,17)",
           "radialaxis": {
            "gridcolor": "#506784",
            "linecolor": "#506784",
            "ticks": ""
           }
          },
          "scene": {
           "xaxis": {
            "backgroundcolor": "rgb(17,17,17)",
            "gridcolor": "#506784",
            "gridwidth": 2,
            "linecolor": "#506784",
            "showbackground": true,
            "ticks": "",
            "zerolinecolor": "#C8D4E3"
           },
           "yaxis": {
            "backgroundcolor": "rgb(17,17,17)",
            "gridcolor": "#506784",
            "gridwidth": 2,
            "linecolor": "#506784",
            "showbackground": true,
            "ticks": "",
            "zerolinecolor": "#C8D4E3"
           },
           "zaxis": {
            "backgroundcolor": "rgb(17,17,17)",
            "gridcolor": "#506784",
            "gridwidth": 2,
            "linecolor": "#506784",
            "showbackground": true,
            "ticks": "",
            "zerolinecolor": "#C8D4E3"
           }
          },
          "shapedefaults": {
           "line": {
            "color": "#f2f5fa"
           }
          },
          "sliderdefaults": {
           "bgcolor": "#C8D4E3",
           "bordercolor": "rgb(17,17,17)",
           "borderwidth": 1,
           "tickwidth": 0
          },
          "ternary": {
           "aaxis": {
            "gridcolor": "#506784",
            "linecolor": "#506784",
            "ticks": ""
           },
           "baxis": {
            "gridcolor": "#506784",
            "linecolor": "#506784",
            "ticks": ""
           },
           "bgcolor": "rgb(17,17,17)",
           "caxis": {
            "gridcolor": "#506784",
            "linecolor": "#506784",
            "ticks": ""
           }
          },
          "title": {
           "x": 0.05
          },
          "updatemenudefaults": {
           "bgcolor": "#506784",
           "borderwidth": 0
          },
          "xaxis": {
           "automargin": true,
           "gridcolor": "#283442",
           "linecolor": "#506784",
           "ticks": "",
           "title": {
            "standoff": 15
           },
           "zerolinecolor": "#283442",
           "zerolinewidth": 2
          },
          "yaxis": {
           "automargin": true,
           "gridcolor": "#283442",
           "linecolor": "#506784",
           "ticks": "",
           "title": {
            "standoff": 15
           },
           "zerolinecolor": "#283442",
           "zerolinewidth": 2
          }
         }
        },
        "title": {
         "text": "Distribution of Mean Radius"
        },
        "xaxis": {
         "anchor": "y",
         "domain": [
          0,
          1
         ],
         "title": {
          "text": "Mean Radius"
         }
        },
        "yaxis": {
         "anchor": "x",
         "domain": [
          0,
          1
         ],
         "title": {
          "text": "Count"
         }
        }
       }
      }
     },
     "metadata": {},
     "output_type": "display_data"
    }
   ],
   "source": [
    "fig = px.histogram(df, x=\"mean radius\", nbins=20, title='Distribution of Mean Radius', color_discrete_sequence=['#636EFA'], template='plotly_dark')\n",
    "fig.update_layout(\n",
    "    xaxis_title='Mean Radius',\n",
    "    yaxis_title='Count',\n",
    "    font=dict(\n",
    "        family=\"Courier New, monospace\",\n",
    "        size=14,\n",
    "        color=\"#7f7f7f\"\n",
    "    )\n",
    ")\n",
    "fig.show()"
   ]
  },
  {
   "cell_type": "markdown",
   "metadata": {},
   "source": [
    "### **Box Plot of Mean Radius**"
   ]
  },
  {
   "cell_type": "code",
   "execution_count": 7,
   "metadata": {},
   "outputs": [
    {
     "data": {
      "application/vnd.plotly.v1+json": {
       "config": {
        "plotlyServerURL": "https://plot.ly"
       },
       "data": [
        {
         "alignmentgroup": "True",
         "boxmean": true,
         "hovertemplate": "mean radius=%{y}<extra></extra>",
         "legendgroup": "",
         "line": {
          "color": "#636EFA"
         },
         "marker": {
          "color": "#636EFA"
         },
         "name": "",
         "notched": false,
         "offsetgroup": "",
         "orientation": "v",
         "showlegend": false,
         "type": "box",
         "x0": " ",
         "xaxis": "x",
         "y": [
          17.99,
          20.57,
          19.69,
          11.42,
          20.29,
          12.45,
          18.25,
          13.71,
          13,
          12.46,
          16.02,
          15.78,
          19.17,
          15.85,
          13.73,
          14.54,
          14.68,
          16.13,
          19.81,
          13.54,
          13.08,
          9.504,
          15.34,
          21.16,
          16.65,
          17.14,
          14.58,
          18.61,
          15.3,
          17.57,
          18.63,
          11.84,
          17.02,
          19.27,
          16.13,
          16.74,
          14.25,
          13.03,
          14.99,
          13.48,
          13.44,
          10.95,
          19.07,
          13.28,
          13.17,
          18.65,
          8.196,
          13.17,
          12.05,
          13.49,
          11.76,
          13.64,
          11.94,
          18.22,
          15.1,
          11.52,
          19.21,
          14.71,
          13.05,
          8.618,
          10.17,
          8.598,
          14.25,
          9.173,
          12.68,
          14.78,
          9.465,
          11.31,
          9.029,
          12.78,
          18.94,
          8.888,
          17.2,
          13.8,
          12.31,
          16.07,
          13.53,
          18.05,
          20.18,
          12.86,
          11.45,
          13.34,
          25.22,
          19.1,
          12,
          18.46,
          14.48,
          19.02,
          12.36,
          14.64,
          14.62,
          15.37,
          13.27,
          13.45,
          15.06,
          20.26,
          12.18,
          9.787,
          11.6,
          14.42,
          13.61,
          6.981,
          12.18,
          9.876,
          10.49,
          13.11,
          11.64,
          12.36,
          22.27,
          11.34,
          9.777,
          12.63,
          14.26,
          10.51,
          8.726,
          11.93,
          8.95,
          14.87,
          15.78,
          17.95,
          11.41,
          18.66,
          24.25,
          14.5,
          13.37,
          13.85,
          13.61,
          19,
          15.1,
          19.79,
          12.19,
          15.46,
          16.16,
          15.71,
          18.45,
          12.77,
          11.71,
          11.43,
          14.95,
          11.28,
          9.738,
          16.11,
          11.43,
          12.9,
          10.75,
          11.9,
          11.8,
          14.95,
          14.44,
          13.74,
          13,
          8.219,
          9.731,
          11.15,
          13.15,
          12.25,
          17.68,
          16.84,
          12.06,
          10.9,
          11.75,
          19.19,
          19.59,
          12.34,
          23.27,
          14.97,
          10.8,
          16.78,
          17.47,
          14.97,
          12.32,
          13.43,
          15.46,
          11.08,
          10.66,
          8.671,
          9.904,
          16.46,
          13.01,
          12.81,
          27.22,
          21.09,
          15.7,
          11.41,
          15.28,
          10.08,
          18.31,
          11.71,
          11.81,
          12.3,
          14.22,
          12.77,
          9.72,
          12.34,
          14.86,
          12.91,
          13.77,
          18.08,
          19.18,
          14.45,
          12.23,
          17.54,
          23.29,
          13.81,
          12.47,
          15.12,
          9.876,
          17.01,
          13.11,
          15.27,
          20.58,
          11.84,
          28.11,
          17.42,
          14.19,
          13.86,
          11.89,
          10.2,
          19.8,
          19.53,
          13.65,
          13.56,
          10.18,
          15.75,
          13.27,
          14.34,
          10.44,
          15,
          12.62,
          12.83,
          17.05,
          11.32,
          11.22,
          20.51,
          9.567,
          14.03,
          23.21,
          20.48,
          14.22,
          17.46,
          13.64,
          12.42,
          11.3,
          13.75,
          19.4,
          10.48,
          13.2,
          12.89,
          10.65,
          11.52,
          20.94,
          11.5,
          19.73,
          17.3,
          19.45,
          13.96,
          19.55,
          15.32,
          15.66,
          15.53,
          20.31,
          17.35,
          17.29,
          15.61,
          17.19,
          20.73,
          10.6,
          13.59,
          12.87,
          10.71,
          14.29,
          11.29,
          21.75,
          9.742,
          17.93,
          11.89,
          11.33,
          18.81,
          13.59,
          13.85,
          19.16,
          11.74,
          19.4,
          16.24,
          12.89,
          12.58,
          11.94,
          12.89,
          11.26,
          11.37,
          14.41,
          14.96,
          12.95,
          11.85,
          12.72,
          13.77,
          10.91,
          11.76,
          14.26,
          10.51,
          19.53,
          12.46,
          20.09,
          10.49,
          11.46,
          11.6,
          13.2,
          9,
          13.5,
          13.05,
          11.7,
          14.61,
          12.76,
          11.54,
          8.597,
          12.49,
          12.18,
          18.22,
          9.042,
          12.43,
          10.25,
          20.16,
          12.86,
          20.34,
          12.2,
          12.67,
          14.11,
          12.03,
          16.27,
          16.26,
          16.03,
          12.98,
          11.22,
          11.25,
          12.3,
          17.06,
          12.99,
          18.77,
          10.05,
          23.51,
          14.42,
          9.606,
          11.06,
          19.68,
          11.71,
          10.26,
          12.06,
          14.76,
          11.47,
          11.95,
          11.66,
          15.75,
          25.73,
          15.08,
          11.14,
          12.56,
          13.05,
          13.87,
          8.878,
          9.436,
          12.54,
          13.3,
          12.76,
          16.5,
          13.4,
          20.44,
          20.2,
          12.21,
          21.71,
          22.01,
          16.35,
          15.19,
          21.37,
          20.64,
          13.69,
          16.17,
          10.57,
          13.46,
          13.66,
          11.08,
          11.27,
          11.04,
          12.05,
          12.39,
          13.28,
          14.6,
          12.21,
          13.88,
          11.27,
          19.55,
          10.26,
          8.734,
          15.49,
          21.61,
          12.1,
          14.06,
          13.51,
          12.8,
          11.06,
          11.8,
          17.91,
          11.93,
          12.96,
          12.94,
          12.34,
          10.94,
          16.14,
          12.85,
          17.99,
          12.27,
          11.36,
          11.04,
          9.397,
          14.99,
          15.13,
          11.89,
          9.405,
          15.5,
          12.7,
          11.16,
          11.57,
          14.69,
          11.61,
          13.66,
          9.742,
          10.03,
          10.48,
          10.8,
          11.13,
          12.72,
          14.9,
          12.4,
          20.18,
          18.82,
          14.86,
          13.98,
          12.87,
          14.04,
          13.85,
          14.02,
          10.97,
          17.27,
          13.78,
          10.57,
          18.03,
          11.99,
          17.75,
          14.8,
          14.53,
          21.1,
          11.87,
          19.59,
          12,
          14.53,
          12.62,
          13.38,
          11.63,
          13.21,
          13,
          9.755,
          17.08,
          27.42,
          14.4,
          11.6,
          13.17,
          13.24,
          13.14,
          9.668,
          17.6,
          11.62,
          9.667,
          12.04,
          14.92,
          12.27,
          10.88,
          12.83,
          14.2,
          13.9,
          11.49,
          16.25,
          12.16,
          13.9,
          13.47,
          13.7,
          15.73,
          12.45,
          14.64,
          19.44,
          11.68,
          16.69,
          12.25,
          17.85,
          18.01,
          12.46,
          13.16,
          14.87,
          12.65,
          12.47,
          18.49,
          20.59,
          15.04,
          13.82,
          12.54,
          23.09,
          9.268,
          9.676,
          12.22,
          11.06,
          16.3,
          15.46,
          11.74,
          14.81,
          13.4,
          14.58,
          15.05,
          11.34,
          18.31,
          19.89,
          12.88,
          12.75,
          9.295,
          24.63,
          11.26,
          13.71,
          9.847,
          8.571,
          13.46,
          12.34,
          13.94,
          12.07,
          11.75,
          11.67,
          13.68,
          20.47,
          10.96,
          20.55,
          14.27,
          11.69,
          7.729,
          7.691,
          11.54,
          14.47,
          14.74,
          13.21,
          13.87,
          13.62,
          10.32,
          10.26,
          9.683,
          10.82,
          10.86,
          11.13,
          12.77,
          9.333,
          12.88,
          10.29,
          10.16,
          9.423,
          14.59,
          11.51,
          14.05,
          11.2,
          15.22,
          20.92,
          21.56,
          20.13,
          16.6,
          20.6,
          7.76
         ],
         "y0": " ",
         "yaxis": "y"
        }
       ],
       "layout": {
        "annotations": [
         {
          "showarrow": false,
          "text": "Q1: 11.70",
          "x": 0.5,
          "xref": "x",
          "y": 11.7,
          "yref": "y"
         },
         {
          "showarrow": false,
          "text": "Median: 13.37",
          "x": 0.5,
          "xref": "x",
          "y": 13.37,
          "yref": "y"
         },
         {
          "showarrow": false,
          "text": "Q3: 15.78",
          "x": 0.5,
          "xref": "x",
          "y": 15.78,
          "yref": "y"
         }
        ],
        "boxmode": "group",
        "font": {
         "color": "#7f7f7f",
         "family": "Courier New, monospace",
         "size": 14
        },
        "legend": {
         "tracegroupgap": 0
        },
        "template": {
         "data": {
          "bar": [
           {
            "error_x": {
             "color": "#f2f5fa"
            },
            "error_y": {
             "color": "#f2f5fa"
            },
            "marker": {
             "line": {
              "color": "rgb(17,17,17)",
              "width": 0.5
             },
             "pattern": {
              "fillmode": "overlay",
              "size": 10,
              "solidity": 0.2
             }
            },
            "type": "bar"
           }
          ],
          "barpolar": [
           {
            "marker": {
             "line": {
              "color": "rgb(17,17,17)",
              "width": 0.5
             },
             "pattern": {
              "fillmode": "overlay",
              "size": 10,
              "solidity": 0.2
             }
            },
            "type": "barpolar"
           }
          ],
          "carpet": [
           {
            "aaxis": {
             "endlinecolor": "#A2B1C6",
             "gridcolor": "#506784",
             "linecolor": "#506784",
             "minorgridcolor": "#506784",
             "startlinecolor": "#A2B1C6"
            },
            "baxis": {
             "endlinecolor": "#A2B1C6",
             "gridcolor": "#506784",
             "linecolor": "#506784",
             "minorgridcolor": "#506784",
             "startlinecolor": "#A2B1C6"
            },
            "type": "carpet"
           }
          ],
          "choropleth": [
           {
            "colorbar": {
             "outlinewidth": 0,
             "ticks": ""
            },
            "type": "choropleth"
           }
          ],
          "contour": [
           {
            "colorbar": {
             "outlinewidth": 0,
             "ticks": ""
            },
            "colorscale": [
             [
              0,
              "#0d0887"
             ],
             [
              0.1111111111111111,
              "#46039f"
             ],
             [
              0.2222222222222222,
              "#7201a8"
             ],
             [
              0.3333333333333333,
              "#9c179e"
             ],
             [
              0.4444444444444444,
              "#bd3786"
             ],
             [
              0.5555555555555556,
              "#d8576b"
             ],
             [
              0.6666666666666666,
              "#ed7953"
             ],
             [
              0.7777777777777778,
              "#fb9f3a"
             ],
             [
              0.8888888888888888,
              "#fdca26"
             ],
             [
              1,
              "#f0f921"
             ]
            ],
            "type": "contour"
           }
          ],
          "contourcarpet": [
           {
            "colorbar": {
             "outlinewidth": 0,
             "ticks": ""
            },
            "type": "contourcarpet"
           }
          ],
          "heatmap": [
           {
            "colorbar": {
             "outlinewidth": 0,
             "ticks": ""
            },
            "colorscale": [
             [
              0,
              "#0d0887"
             ],
             [
              0.1111111111111111,
              "#46039f"
             ],
             [
              0.2222222222222222,
              "#7201a8"
             ],
             [
              0.3333333333333333,
              "#9c179e"
             ],
             [
              0.4444444444444444,
              "#bd3786"
             ],
             [
              0.5555555555555556,
              "#d8576b"
             ],
             [
              0.6666666666666666,
              "#ed7953"
             ],
             [
              0.7777777777777778,
              "#fb9f3a"
             ],
             [
              0.8888888888888888,
              "#fdca26"
             ],
             [
              1,
              "#f0f921"
             ]
            ],
            "type": "heatmap"
           }
          ],
          "heatmapgl": [
           {
            "colorbar": {
             "outlinewidth": 0,
             "ticks": ""
            },
            "colorscale": [
             [
              0,
              "#0d0887"
             ],
             [
              0.1111111111111111,
              "#46039f"
             ],
             [
              0.2222222222222222,
              "#7201a8"
             ],
             [
              0.3333333333333333,
              "#9c179e"
             ],
             [
              0.4444444444444444,
              "#bd3786"
             ],
             [
              0.5555555555555556,
              "#d8576b"
             ],
             [
              0.6666666666666666,
              "#ed7953"
             ],
             [
              0.7777777777777778,
              "#fb9f3a"
             ],
             [
              0.8888888888888888,
              "#fdca26"
             ],
             [
              1,
              "#f0f921"
             ]
            ],
            "type": "heatmapgl"
           }
          ],
          "histogram": [
           {
            "marker": {
             "pattern": {
              "fillmode": "overlay",
              "size": 10,
              "solidity": 0.2
             }
            },
            "type": "histogram"
           }
          ],
          "histogram2d": [
           {
            "colorbar": {
             "outlinewidth": 0,
             "ticks": ""
            },
            "colorscale": [
             [
              0,
              "#0d0887"
             ],
             [
              0.1111111111111111,
              "#46039f"
             ],
             [
              0.2222222222222222,
              "#7201a8"
             ],
             [
              0.3333333333333333,
              "#9c179e"
             ],
             [
              0.4444444444444444,
              "#bd3786"
             ],
             [
              0.5555555555555556,
              "#d8576b"
             ],
             [
              0.6666666666666666,
              "#ed7953"
             ],
             [
              0.7777777777777778,
              "#fb9f3a"
             ],
             [
              0.8888888888888888,
              "#fdca26"
             ],
             [
              1,
              "#f0f921"
             ]
            ],
            "type": "histogram2d"
           }
          ],
          "histogram2dcontour": [
           {
            "colorbar": {
             "outlinewidth": 0,
             "ticks": ""
            },
            "colorscale": [
             [
              0,
              "#0d0887"
             ],
             [
              0.1111111111111111,
              "#46039f"
             ],
             [
              0.2222222222222222,
              "#7201a8"
             ],
             [
              0.3333333333333333,
              "#9c179e"
             ],
             [
              0.4444444444444444,
              "#bd3786"
             ],
             [
              0.5555555555555556,
              "#d8576b"
             ],
             [
              0.6666666666666666,
              "#ed7953"
             ],
             [
              0.7777777777777778,
              "#fb9f3a"
             ],
             [
              0.8888888888888888,
              "#fdca26"
             ],
             [
              1,
              "#f0f921"
             ]
            ],
            "type": "histogram2dcontour"
           }
          ],
          "mesh3d": [
           {
            "colorbar": {
             "outlinewidth": 0,
             "ticks": ""
            },
            "type": "mesh3d"
           }
          ],
          "parcoords": [
           {
            "line": {
             "colorbar": {
              "outlinewidth": 0,
              "ticks": ""
             }
            },
            "type": "parcoords"
           }
          ],
          "pie": [
           {
            "automargin": true,
            "type": "pie"
           }
          ],
          "scatter": [
           {
            "marker": {
             "line": {
              "color": "#283442"
             }
            },
            "type": "scatter"
           }
          ],
          "scatter3d": [
           {
            "line": {
             "colorbar": {
              "outlinewidth": 0,
              "ticks": ""
             }
            },
            "marker": {
             "colorbar": {
              "outlinewidth": 0,
              "ticks": ""
             }
            },
            "type": "scatter3d"
           }
          ],
          "scattercarpet": [
           {
            "marker": {
             "colorbar": {
              "outlinewidth": 0,
              "ticks": ""
             }
            },
            "type": "scattercarpet"
           }
          ],
          "scattergeo": [
           {
            "marker": {
             "colorbar": {
              "outlinewidth": 0,
              "ticks": ""
             }
            },
            "type": "scattergeo"
           }
          ],
          "scattergl": [
           {
            "marker": {
             "line": {
              "color": "#283442"
             }
            },
            "type": "scattergl"
           }
          ],
          "scattermapbox": [
           {
            "marker": {
             "colorbar": {
              "outlinewidth": 0,
              "ticks": ""
             }
            },
            "type": "scattermapbox"
           }
          ],
          "scatterpolar": [
           {
            "marker": {
             "colorbar": {
              "outlinewidth": 0,
              "ticks": ""
             }
            },
            "type": "scatterpolar"
           }
          ],
          "scatterpolargl": [
           {
            "marker": {
             "colorbar": {
              "outlinewidth": 0,
              "ticks": ""
             }
            },
            "type": "scatterpolargl"
           }
          ],
          "scatterternary": [
           {
            "marker": {
             "colorbar": {
              "outlinewidth": 0,
              "ticks": ""
             }
            },
            "type": "scatterternary"
           }
          ],
          "surface": [
           {
            "colorbar": {
             "outlinewidth": 0,
             "ticks": ""
            },
            "colorscale": [
             [
              0,
              "#0d0887"
             ],
             [
              0.1111111111111111,
              "#46039f"
             ],
             [
              0.2222222222222222,
              "#7201a8"
             ],
             [
              0.3333333333333333,
              "#9c179e"
             ],
             [
              0.4444444444444444,
              "#bd3786"
             ],
             [
              0.5555555555555556,
              "#d8576b"
             ],
             [
              0.6666666666666666,
              "#ed7953"
             ],
             [
              0.7777777777777778,
              "#fb9f3a"
             ],
             [
              0.8888888888888888,
              "#fdca26"
             ],
             [
              1,
              "#f0f921"
             ]
            ],
            "type": "surface"
           }
          ],
          "table": [
           {
            "cells": {
             "fill": {
              "color": "#506784"
             },
             "line": {
              "color": "rgb(17,17,17)"
             }
            },
            "header": {
             "fill": {
              "color": "#2a3f5f"
             },
             "line": {
              "color": "rgb(17,17,17)"
             }
            },
            "type": "table"
           }
          ]
         },
         "layout": {
          "annotationdefaults": {
           "arrowcolor": "#f2f5fa",
           "arrowhead": 0,
           "arrowwidth": 1
          },
          "autotypenumbers": "strict",
          "coloraxis": {
           "colorbar": {
            "outlinewidth": 0,
            "ticks": ""
           }
          },
          "colorscale": {
           "diverging": [
            [
             0,
             "#8e0152"
            ],
            [
             0.1,
             "#c51b7d"
            ],
            [
             0.2,
             "#de77ae"
            ],
            [
             0.3,
             "#f1b6da"
            ],
            [
             0.4,
             "#fde0ef"
            ],
            [
             0.5,
             "#f7f7f7"
            ],
            [
             0.6,
             "#e6f5d0"
            ],
            [
             0.7,
             "#b8e186"
            ],
            [
             0.8,
             "#7fbc41"
            ],
            [
             0.9,
             "#4d9221"
            ],
            [
             1,
             "#276419"
            ]
           ],
           "sequential": [
            [
             0,
             "#0d0887"
            ],
            [
             0.1111111111111111,
             "#46039f"
            ],
            [
             0.2222222222222222,
             "#7201a8"
            ],
            [
             0.3333333333333333,
             "#9c179e"
            ],
            [
             0.4444444444444444,
             "#bd3786"
            ],
            [
             0.5555555555555556,
             "#d8576b"
            ],
            [
             0.6666666666666666,
             "#ed7953"
            ],
            [
             0.7777777777777778,
             "#fb9f3a"
            ],
            [
             0.8888888888888888,
             "#fdca26"
            ],
            [
             1,
             "#f0f921"
            ]
           ],
           "sequentialminus": [
            [
             0,
             "#0d0887"
            ],
            [
             0.1111111111111111,
             "#46039f"
            ],
            [
             0.2222222222222222,
             "#7201a8"
            ],
            [
             0.3333333333333333,
             "#9c179e"
            ],
            [
             0.4444444444444444,
             "#bd3786"
            ],
            [
             0.5555555555555556,
             "#d8576b"
            ],
            [
             0.6666666666666666,
             "#ed7953"
            ],
            [
             0.7777777777777778,
             "#fb9f3a"
            ],
            [
             0.8888888888888888,
             "#fdca26"
            ],
            [
             1,
             "#f0f921"
            ]
           ]
          },
          "colorway": [
           "#636efa",
           "#EF553B",
           "#00cc96",
           "#ab63fa",
           "#FFA15A",
           "#19d3f3",
           "#FF6692",
           "#B6E880",
           "#FF97FF",
           "#FECB52"
          ],
          "font": {
           "color": "#f2f5fa"
          },
          "geo": {
           "bgcolor": "rgb(17,17,17)",
           "lakecolor": "rgb(17,17,17)",
           "landcolor": "rgb(17,17,17)",
           "showlakes": true,
           "showland": true,
           "subunitcolor": "#506784"
          },
          "hoverlabel": {
           "align": "left"
          },
          "hovermode": "closest",
          "mapbox": {
           "style": "dark"
          },
          "paper_bgcolor": "rgb(17,17,17)",
          "plot_bgcolor": "rgb(17,17,17)",
          "polar": {
           "angularaxis": {
            "gridcolor": "#506784",
            "linecolor": "#506784",
            "ticks": ""
           },
           "bgcolor": "rgb(17,17,17)",
           "radialaxis": {
            "gridcolor": "#506784",
            "linecolor": "#506784",
            "ticks": ""
           }
          },
          "scene": {
           "xaxis": {
            "backgroundcolor": "rgb(17,17,17)",
            "gridcolor": "#506784",
            "gridwidth": 2,
            "linecolor": "#506784",
            "showbackground": true,
            "ticks": "",
            "zerolinecolor": "#C8D4E3"
           },
           "yaxis": {
            "backgroundcolor": "rgb(17,17,17)",
            "gridcolor": "#506784",
            "gridwidth": 2,
            "linecolor": "#506784",
            "showbackground": true,
            "ticks": "",
            "zerolinecolor": "#C8D4E3"
           },
           "zaxis": {
            "backgroundcolor": "rgb(17,17,17)",
            "gridcolor": "#506784",
            "gridwidth": 2,
            "linecolor": "#506784",
            "showbackground": true,
            "ticks": "",
            "zerolinecolor": "#C8D4E3"
           }
          },
          "shapedefaults": {
           "line": {
            "color": "#f2f5fa"
           }
          },
          "sliderdefaults": {
           "bgcolor": "#C8D4E3",
           "bordercolor": "rgb(17,17,17)",
           "borderwidth": 1,
           "tickwidth": 0
          },
          "ternary": {
           "aaxis": {
            "gridcolor": "#506784",
            "linecolor": "#506784",
            "ticks": ""
           },
           "baxis": {
            "gridcolor": "#506784",
            "linecolor": "#506784",
            "ticks": ""
           },
           "bgcolor": "rgb(17,17,17)",
           "caxis": {
            "gridcolor": "#506784",
            "linecolor": "#506784",
            "ticks": ""
           }
          },
          "title": {
           "x": 0.05
          },
          "updatemenudefaults": {
           "bgcolor": "#506784",
           "borderwidth": 0
          },
          "xaxis": {
           "automargin": true,
           "gridcolor": "#283442",
           "linecolor": "#506784",
           "ticks": "",
           "title": {
            "standoff": 15
           },
           "zerolinecolor": "#283442",
           "zerolinewidth": 2
          },
          "yaxis": {
           "automargin": true,
           "gridcolor": "#283442",
           "linecolor": "#506784",
           "ticks": "",
           "title": {
            "standoff": 15
           },
           "zerolinecolor": "#283442",
           "zerolinewidth": 2
          }
         }
        },
        "title": {
         "text": "Box Plot of Mean Radius"
        },
        "xaxis": {
         "anchor": "y",
         "domain": [
          0,
          1
         ],
         "title": {
          "text": "Mean Radius"
         }
        },
        "yaxis": {
         "anchor": "x",
         "domain": [
          0,
          1
         ],
         "title": {
          "text": "Count"
         }
        }
       }
      }
     },
     "metadata": {},
     "output_type": "display_data"
    }
   ],
   "source": [
    "# Calculate the quantiles\n",
    "q1 = np.percentile(df['mean radius'], 25)\n",
    "q3 = np.percentile(df['mean radius'], 75)\n",
    "median = np.median(df['mean radius'])\n",
    "\n",
    "fig = px.box(df, y=\"mean radius\", title='Box Plot of Mean Radius', template='plotly_dark')\n",
    "\n",
    "# Customize the box plot\n",
    "fig.update_traces(marker_color='#636EFA', line_color='#636EFA', boxmean=True)\n",
    "fig.update_layout(\n",
    "    xaxis_title='Mean Radius',\n",
    "    yaxis_title='Count',\n",
    "    font=dict(\n",
    "        family=\"Courier New, monospace\",\n",
    "        size=14,\n",
    "        color=\"#7f7f7f\"\n",
    "    ),\n",
    "    # Add annotations for the quantiles\n",
    "    annotations=[\n",
    "        dict(x=0.5, y=q1, xref='x', yref='y', text=f'Q1: {q1:.2f}', showarrow=False),\n",
    "        dict(x=0.5, y=median, xref='x', yref='y', text=f'Median: {median:.2f}', showarrow=False),\n",
    "        dict(x=0.5, y=q3, xref='x', yref='y', text=f'Q3: {q3:.2f}', showarrow=False)\n",
    "    ]\n",
    ")\n",
    "\n",
    "fig.show()"
   ]
  },
  {
   "cell_type": "markdown",
   "metadata": {},
   "source": [
    "### **Scatter matrix of selected features**"
   ]
  },
  {
   "cell_type": "code",
   "execution_count": 8,
   "metadata": {},
   "outputs": [
    {
     "data": {
      "application/vnd.plotly.v1+json": {
       "config": {
        "plotlyServerURL": "https://plot.ly"
       },
       "data": [
        {
         "diagonal": {
          "visible": false
         },
         "dimensions": [
          {
           "axis": {
            "matches": true
           },
           "label": "mean radius",
           "values": [
            17.99,
            20.57,
            19.69,
            11.42,
            20.29,
            12.45,
            18.25,
            13.71,
            13,
            12.46,
            16.02,
            15.78,
            19.17,
            15.85,
            13.73,
            14.54,
            14.68,
            16.13,
            19.81,
            13.54,
            13.08,
            9.504,
            15.34,
            21.16,
            16.65,
            17.14,
            14.58,
            18.61,
            15.3,
            17.57,
            18.63,
            11.84,
            17.02,
            19.27,
            16.13,
            16.74,
            14.25,
            13.03,
            14.99,
            13.48,
            13.44,
            10.95,
            19.07,
            13.28,
            13.17,
            18.65,
            8.196,
            13.17,
            12.05,
            13.49,
            11.76,
            13.64,
            11.94,
            18.22,
            15.1,
            11.52,
            19.21,
            14.71,
            13.05,
            8.618,
            10.17,
            8.598,
            14.25,
            9.173,
            12.68,
            14.78,
            9.465,
            11.31,
            9.029,
            12.78,
            18.94,
            8.888,
            17.2,
            13.8,
            12.31,
            16.07,
            13.53,
            18.05,
            20.18,
            12.86,
            11.45,
            13.34,
            25.22,
            19.1,
            12,
            18.46,
            14.48,
            19.02,
            12.36,
            14.64,
            14.62,
            15.37,
            13.27,
            13.45,
            15.06,
            20.26,
            12.18,
            9.787,
            11.6,
            14.42,
            13.61,
            6.981,
            12.18,
            9.876,
            10.49,
            13.11,
            11.64,
            12.36,
            22.27,
            11.34,
            9.777,
            12.63,
            14.26,
            10.51,
            8.726,
            11.93,
            8.95,
            14.87,
            15.78,
            17.95,
            11.41,
            18.66,
            24.25,
            14.5,
            13.37,
            13.85,
            13.61,
            19,
            15.1,
            19.79,
            12.19,
            15.46,
            16.16,
            15.71,
            18.45,
            12.77,
            11.71,
            11.43,
            14.95,
            11.28,
            9.738,
            16.11,
            11.43,
            12.9,
            10.75,
            11.9,
            11.8,
            14.95,
            14.44,
            13.74,
            13,
            8.219,
            9.731,
            11.15,
            13.15,
            12.25,
            17.68,
            16.84,
            12.06,
            10.9,
            11.75,
            19.19,
            19.59,
            12.34,
            23.27,
            14.97,
            10.8,
            16.78,
            17.47,
            14.97,
            12.32,
            13.43,
            15.46,
            11.08,
            10.66,
            8.671,
            9.904,
            16.46,
            13.01,
            12.81,
            27.22,
            21.09,
            15.7,
            11.41,
            15.28,
            10.08,
            18.31,
            11.71,
            11.81,
            12.3,
            14.22,
            12.77,
            9.72,
            12.34,
            14.86,
            12.91,
            13.77,
            18.08,
            19.18,
            14.45,
            12.23,
            17.54,
            23.29,
            13.81,
            12.47,
            15.12,
            9.876,
            17.01,
            13.11,
            15.27,
            20.58,
            11.84,
            28.11,
            17.42,
            14.19,
            13.86,
            11.89,
            10.2,
            19.8,
            19.53,
            13.65,
            13.56,
            10.18,
            15.75,
            13.27,
            14.34,
            10.44,
            15,
            12.62,
            12.83,
            17.05,
            11.32,
            11.22,
            20.51,
            9.567,
            14.03,
            23.21,
            20.48,
            14.22,
            17.46,
            13.64,
            12.42,
            11.3,
            13.75,
            19.4,
            10.48,
            13.2,
            12.89,
            10.65,
            11.52,
            20.94,
            11.5,
            19.73,
            17.3,
            19.45,
            13.96,
            19.55,
            15.32,
            15.66,
            15.53,
            20.31,
            17.35,
            17.29,
            15.61,
            17.19,
            20.73,
            10.6,
            13.59,
            12.87,
            10.71,
            14.29,
            11.29,
            21.75,
            9.742,
            17.93,
            11.89,
            11.33,
            18.81,
            13.59,
            13.85,
            19.16,
            11.74,
            19.4,
            16.24,
            12.89,
            12.58,
            11.94,
            12.89,
            11.26,
            11.37,
            14.41,
            14.96,
            12.95,
            11.85,
            12.72,
            13.77,
            10.91,
            11.76,
            14.26,
            10.51,
            19.53,
            12.46,
            20.09,
            10.49,
            11.46,
            11.6,
            13.2,
            9,
            13.5,
            13.05,
            11.7,
            14.61,
            12.76,
            11.54,
            8.597,
            12.49,
            12.18,
            18.22,
            9.042,
            12.43,
            10.25,
            20.16,
            12.86,
            20.34,
            12.2,
            12.67,
            14.11,
            12.03,
            16.27,
            16.26,
            16.03,
            12.98,
            11.22,
            11.25,
            12.3,
            17.06,
            12.99,
            18.77,
            10.05,
            23.51,
            14.42,
            9.606,
            11.06,
            19.68,
            11.71,
            10.26,
            12.06,
            14.76,
            11.47,
            11.95,
            11.66,
            15.75,
            25.73,
            15.08,
            11.14,
            12.56,
            13.05,
            13.87,
            8.878,
            9.436,
            12.54,
            13.3,
            12.76,
            16.5,
            13.4,
            20.44,
            20.2,
            12.21,
            21.71,
            22.01,
            16.35,
            15.19,
            21.37,
            20.64,
            13.69,
            16.17,
            10.57,
            13.46,
            13.66,
            11.08,
            11.27,
            11.04,
            12.05,
            12.39,
            13.28,
            14.6,
            12.21,
            13.88,
            11.27,
            19.55,
            10.26,
            8.734,
            15.49,
            21.61,
            12.1,
            14.06,
            13.51,
            12.8,
            11.06,
            11.8,
            17.91,
            11.93,
            12.96,
            12.94,
            12.34,
            10.94,
            16.14,
            12.85,
            17.99,
            12.27,
            11.36,
            11.04,
            9.397,
            14.99,
            15.13,
            11.89,
            9.405,
            15.5,
            12.7,
            11.16,
            11.57,
            14.69,
            11.61,
            13.66,
            9.742,
            10.03,
            10.48,
            10.8,
            11.13,
            12.72,
            14.9,
            12.4,
            20.18,
            18.82,
            14.86,
            13.98,
            12.87,
            14.04,
            13.85,
            14.02,
            10.97,
            17.27,
            13.78,
            10.57,
            18.03,
            11.99,
            17.75,
            14.8,
            14.53,
            21.1,
            11.87,
            19.59,
            12,
            14.53,
            12.62,
            13.38,
            11.63,
            13.21,
            13,
            9.755,
            17.08,
            27.42,
            14.4,
            11.6,
            13.17,
            13.24,
            13.14,
            9.668,
            17.6,
            11.62,
            9.667,
            12.04,
            14.92,
            12.27,
            10.88,
            12.83,
            14.2,
            13.9,
            11.49,
            16.25,
            12.16,
            13.9,
            13.47,
            13.7,
            15.73,
            12.45,
            14.64,
            19.44,
            11.68,
            16.69,
            12.25,
            17.85,
            18.01,
            12.46,
            13.16,
            14.87,
            12.65,
            12.47,
            18.49,
            20.59,
            15.04,
            13.82,
            12.54,
            23.09,
            9.268,
            9.676,
            12.22,
            11.06,
            16.3,
            15.46,
            11.74,
            14.81,
            13.4,
            14.58,
            15.05,
            11.34,
            18.31,
            19.89,
            12.88,
            12.75,
            9.295,
            24.63,
            11.26,
            13.71,
            9.847,
            8.571,
            13.46,
            12.34,
            13.94,
            12.07,
            11.75,
            11.67,
            13.68,
            20.47,
            10.96,
            20.55,
            14.27,
            11.69,
            7.729,
            7.691,
            11.54,
            14.47,
            14.74,
            13.21,
            13.87,
            13.62,
            10.32,
            10.26,
            9.683,
            10.82,
            10.86,
            11.13,
            12.77,
            9.333,
            12.88,
            10.29,
            10.16,
            9.423,
            14.59,
            11.51,
            14.05,
            11.2,
            15.22,
            20.92,
            21.56,
            20.13,
            16.6,
            20.6,
            7.76
           ]
          },
          {
           "axis": {
            "matches": true
           },
           "label": "mean texture",
           "values": [
            10.38,
            17.77,
            21.25,
            20.38,
            14.34,
            15.7,
            19.98,
            20.83,
            21.82,
            24.04,
            23.24,
            17.89,
            24.8,
            23.95,
            22.61,
            27.54,
            20.13,
            20.68,
            22.15,
            14.36,
            15.71,
            12.44,
            14.26,
            23.04,
            21.38,
            16.4,
            21.53,
            20.25,
            25.27,
            15.05,
            25.11,
            18.7,
            23.98,
            26.47,
            17.88,
            21.59,
            21.72,
            18.42,
            25.2,
            20.82,
            21.58,
            21.35,
            24.81,
            20.28,
            21.81,
            17.6,
            16.84,
            18.66,
            14.63,
            22.3,
            21.6,
            16.34,
            18.24,
            18.7,
            22.02,
            18.75,
            18.57,
            21.59,
            19.31,
            11.79,
            14.88,
            20.98,
            22.15,
            13.86,
            23.84,
            23.94,
            21.01,
            19.04,
            17.33,
            16.49,
            21.31,
            14.64,
            24.52,
            15.79,
            16.52,
            19.65,
            10.94,
            16.15,
            23.97,
            18,
            20.97,
            15.86,
            24.91,
            26.29,
            15.65,
            18.52,
            21.46,
            24.59,
            21.8,
            15.24,
            24.02,
            22.76,
            14.76,
            18.3,
            19.83,
            23.03,
            17.84,
            19.94,
            12.84,
            19.77,
            24.98,
            13.43,
            20.52,
            19.4,
            19.29,
            15.56,
            18.33,
            18.54,
            19.67,
            21.26,
            16.99,
            20.76,
            19.65,
            20.19,
            15.83,
            21.53,
            15.76,
            16.67,
            22.91,
            20.01,
            10.82,
            17.12,
            20.2,
            10.89,
            16.39,
            17.21,
            24.69,
            18.91,
            16.39,
            25.12,
            13.29,
            19.48,
            21.54,
            13.93,
            21.91,
            22.47,
            16.67,
            15.39,
            17.57,
            13.39,
            11.97,
            18.05,
            17.31,
            15.92,
            14.97,
            14.65,
            16.58,
            18.77,
            15.18,
            17.91,
            20.78,
            20.7,
            15.34,
            13.08,
            15.34,
            17.94,
            20.74,
            19.46,
            12.74,
            12.96,
            20.18,
            15.94,
            18.15,
            22.22,
            22.04,
            19.76,
            9.71,
            18.8,
            24.68,
            16.95,
            12.39,
            19.63,
            11.89,
            14.71,
            15.15,
            14.45,
            18.06,
            20.11,
            22.22,
            13.06,
            21.87,
            26.57,
            20.31,
            14.92,
            22.41,
            15.11,
            18.58,
            17.19,
            17.39,
            15.9,
            23.12,
            21.41,
            18.22,
            26.86,
            23.21,
            16.33,
            22.29,
            21.84,
            22.49,
            20.22,
            19.56,
            19.32,
            26.67,
            23.75,
            18.6,
            16.68,
            17.27,
            20.26,
            22.54,
            12.91,
            22.14,
            18.94,
            18.47,
            25.56,
            23.81,
            16.93,
            18.35,
            17.48,
            21.56,
            32.47,
            13.16,
            13.9,
            17.53,
            20.25,
            17.02,
            13.47,
            15.46,
            15.51,
            23.97,
            22.33,
            19.08,
            27.08,
            33.81,
            27.81,
            15.91,
            21.25,
            26.97,
            21.46,
            27.85,
            39.28,
            15.6,
            15.04,
            18.19,
            23.77,
            23.5,
            19.86,
            17.43,
            14.11,
            25.22,
            14.93,
            23.56,
            18.45,
            19.82,
            17.08,
            19.33,
            17.05,
            28.77,
            17.27,
            23.2,
            33.56,
            27.06,
            23.06,
            22.13,
            19.38,
            22.07,
            31.12,
            18.95,
            21.84,
            16.21,
            20.39,
            16.82,
            13.04,
            20.99,
            15.67,
            24.48,
            17.36,
            14.16,
            19.98,
            17.84,
            15.18,
            26.6,
            14.02,
            18.18,
            18.77,
            15.7,
            18.4,
            20.76,
            13.12,
            19.96,
            18.89,
            19.73,
            19.1,
            16.02,
            17.46,
            13.78,
            13.27,
            12.35,
            18.14,
            18.17,
            23.09,
            18.9,
            19.89,
            23.86,
            18.61,
            18.16,
            24.49,
            15.82,
            14.4,
            12.71,
            13.84,
            19.11,
            15.69,
            13.37,
            10.72,
            18.6,
            16.85,
            14.08,
            18.87,
            18.9,
            17,
            16.18,
            19.66,
            13.32,
            21.51,
            15.21,
            17.3,
            12.88,
            17.93,
            20.71,
            21.88,
            15.51,
            19.35,
            19.86,
            14.78,
            19.02,
            21,
            14.23,
            21.43,
            17.53,
            24.27,
            16.54,
            16.84,
            14.96,
            21.68,
            15.45,
            14.71,
            18.9,
            14.74,
            16.03,
            14.96,
            17.07,
            19.22,
            17.46,
            25.74,
            14.07,
            19.07,
            18.59,
            16.21,
            15.49,
            18.32,
            18.07,
            21.57,
            18.84,
            18.29,
            16.95,
            21.78,
            26.83,
            18.02,
            17.25,
            21.9,
            23.29,
            13.21,
            15.1,
            17.35,
            16.07,
            16.07,
            20.22,
            28.21,
            15.15,
            18.83,
            12.96,
            14.93,
            22.72,
            17.48,
            13.72,
            23.29,
            14.09,
            16.16,
            15.5,
            23.21,
            12.22,
            16.84,
            19.97,
            22.28,
            17.72,
            17.18,
            18.89,
            17.46,
            14.83,
            17.26,
            21.02,
            10.91,
            18.29,
            16.17,
            14.95,
            18.59,
            14.86,
            21.37,
            20.66,
            17.92,
            17.57,
            16.83,
            21.68,
            22.11,
            29.81,
            21.17,
            21.7,
            21.08,
            12.17,
            21.41,
            19.04,
            13.98,
            16.02,
            19.13,
            19.12,
            21.28,
            14.98,
            21.98,
            16.62,
            17.67,
            22.53,
            17.68,
            19.54,
            21.97,
            16.94,
            19.62,
            19.54,
            15.98,
            19.6,
            15.66,
            17.2,
            25.42,
            15.79,
            18.32,
            16.85,
            24.89,
            28.03,
            17.66,
            19.34,
            20.52,
            21.54,
            25,
            28.23,
            13.98,
            17.15,
            30.72,
            29.29,
            25.25,
            25.13,
            28.2,
            27.15,
            26.27,
            26.99,
            18.36,
            18.22,
            20.13,
            20.74,
            18.1,
            23.33,
            18.18,
            18.49,
            28.14,
            14.93,
            29.97,
            15.62,
            15.73,
            20.53,
            16.62,
            14.59,
            19.51,
            18.03,
            19.24,
            14.06,
            17.64,
            11.28,
            16.41,
            16.85,
            18.82,
            16.17,
            20.2,
            22.44,
            13.23,
            20.56,
            12.83,
            20.54,
            20.21,
            18.17,
            17.31,
            17.52,
            21.24,
            16.74,
            24.49,
            16.32,
            19.83,
            12.87,
            13.14,
            20.04,
            17.12,
            15.7,
            23.95,
            14.69,
            14.7,
            20.52,
            13.66,
            19.07,
            18.61,
            20.58,
            20.26,
            18.22,
            16.7,
            13.9,
            21.6,
            19.83,
            18.68,
            15.68,
            13.1,
            18.75,
            12.27,
            13.17,
            13.44,
            17.56,
            20.02,
            16.33,
            20.67,
            17.62,
            20.86,
            22.55,
            24.44,
            25.49,
            25.44,
            14.44,
            24.99,
            25.42,
            28.06,
            20.7,
            23.23,
            16.35,
            16.58,
            19.34,
            24.21,
            21.48,
            22.44,
            29.43,
            21.94,
            28.92,
            27.61,
            19.59,
            27.88,
            22.68,
            23.93,
            27.15,
            29.37,
            30.62,
            25.09,
            22.39,
            28.25,
            28.08,
            29.33,
            24.54
           ]
          },
          {
           "axis": {
            "matches": true
           },
           "label": "mean perimeter",
           "values": [
            122.8,
            132.9,
            130,
            77.58,
            135.1,
            82.57,
            119.6,
            90.2,
            87.5,
            83.97,
            102.7,
            103.6,
            132.4,
            103.7,
            93.6,
            96.73,
            94.74,
            108.1,
            130,
            87.46,
            85.63,
            60.34,
            102.5,
            137.2,
            110,
            116,
            97.41,
            122.1,
            102.4,
            115,
            124.8,
            77.93,
            112.8,
            127.9,
            107,
            110.1,
            93.63,
            82.61,
            95.54,
            88.4,
            86.18,
            71.9,
            128.3,
            87.32,
            85.42,
            123.7,
            51.71,
            85.98,
            78.04,
            86.91,
            74.72,
            87.21,
            75.71,
            120.3,
            97.26,
            73.34,
            125.5,
            95.55,
            82.61,
            54.34,
            64.55,
            54.66,
            96.42,
            59.2,
            82.69,
            97.4,
            60.11,
            71.8,
            58.79,
            81.37,
            123.6,
            58.79,
            114.2,
            90.43,
            79.19,
            104.1,
            87.91,
            120.2,
            143.7,
            83.19,
            73.81,
            86.49,
            171.5,
            129.1,
            76.95,
            121.1,
            94.25,
            122,
            79.78,
            95.77,
            94.57,
            100.2,
            84.74,
            86.6,
            100.3,
            132.4,
            77.79,
            62.11,
            74.34,
            94.48,
            88.05,
            43.79,
            77.22,
            63.95,
            67.41,
            87.21,
            75.17,
            79.01,
            152.8,
            72.48,
            62.5,
            82.15,
            97.83,
            68.64,
            55.84,
            76.53,
            58.74,
            98.64,
            105.7,
            114.2,
            73.34,
            121.4,
            166.2,
            94.28,
            86.1,
            88.44,
            87.76,
            123.4,
            99.58,
            130.4,
            79.08,
            101.7,
            106.2,
            102,
            120.2,
            81.72,
            74.72,
            73.06,
            96.85,
            73,
            61.24,
            105.1,
            73.66,
            83.74,
            68.26,
            78.11,
            78.99,
            97.84,
            93.97,
            88.12,
            83.51,
            53.27,
            63.78,
            70.87,
            85.31,
            78.27,
            117.4,
            108.4,
            76.84,
            68.69,
            76.1,
            126.3,
            130.7,
            79.85,
            152.1,
            95.5,
            68.77,
            109.3,
            116.1,
            96.22,
            78.85,
            85.84,
            102.5,
            70.21,
            67.49,
            54.42,
            64.6,
            109.3,
            82.01,
            81.29,
            182.1,
            142.7,
            101.2,
            73.53,
            98.92,
            63.76,
            118.6,
            74.68,
            75.27,
            78.83,
            94.37,
            82.02,
            60.73,
            81.15,
            100.4,
            82.53,
            90.63,
            117.4,
            127.5,
            94.49,
            78.54,
            115.1,
            158.9,
            91.56,
            81.09,
            98.78,
            62.92,
            109.7,
            87.02,
            98.17,
            134.7,
            75.51,
            188.5,
            114.5,
            92.87,
            90.96,
            77.32,
            65.05,
            129.7,
            128,
            87.88,
            88.59,
            65.12,
            102.6,
            84.55,
            92.51,
            66.62,
            97.45,
            81.35,
            85.26,
            113.4,
            71.76,
            70.79,
            134.4,
            60.21,
            89.79,
            153.5,
            132.5,
            92.55,
            113.4,
            87.38,
            78.61,
            73.93,
            88.54,
            129.1,
            66.72,
            84.13,
            84.95,
            68.01,
            73.87,
            138.9,
            73.28,
            130.7,
            113,
            126.5,
            91.43,
            133.6,
            103.2,
            110.2,
            103.7,
            132.9,
            111,
            114.4,
            100,
            111.6,
            135.7,
            69.28,
            87.16,
            82.38,
            69.5,
            90.3,
            72.23,
            147.3,
            61.5,
            115.2,
            76.2,
            71.79,
            120.9,
            86.24,
            88.99,
            126.2,
            74.24,
            127.2,
            108.8,
            84.08,
            79.83,
            77.87,
            81.89,
            73.72,
            72.17,
            96.03,
            97.03,
            83.14,
            75.54,
            81.78,
            88.06,
            69.14,
            75,
            91.22,
            66.85,
            129.5,
            80.43,
            134.7,
            66.86,
            73.59,
            74.23,
            84.07,
            56.36,
            85.69,
            82.71,
            74.33,
            92.68,
            82.29,
            73.73,
            54.09,
            79.19,
            77.25,
            118.7,
            60.07,
            78.6,
            66.52,
            131.1,
            82.82,
            135.9,
            78.01,
            81.25,
            90.03,
            76.09,
            106.9,
            107.5,
            105.8,
            84.52,
            71.94,
            71.38,
            77.88,
            111.8,
            84.08,
            122.9,
            64.41,
            155.1,
            94.15,
            61.64,
            71.49,
            129.9,
            75.03,
            66.2,
            76.66,
            94.87,
            73.02,
            77.23,
            73.7,
            107.1,
            174.2,
            98,
            71.24,
            81.92,
            85.09,
            88.52,
            56.74,
            59.82,
            79.42,
            85.24,
            81.87,
            106.6,
            85.48,
            133.8,
            133.7,
            78.31,
            140.9,
            147.2,
            109,
            97.65,
            141.3,
            134.8,
            87.84,
            106.3,
            70.15,
            85.89,
            88.27,
            73.3,
            73.16,
            70.67,
            78.75,
            80.64,
            85.79,
            93.97,
            78.78,
            88.37,
            73.38,
            128.9,
            65.75,
            55.27,
            102.4,
            144.4,
            78.07,
            89.75,
            88.1,
            83.05,
            70.31,
            75.26,
            124.4,
            76.14,
            84.18,
            83.18,
            78.29,
            70.39,
            104.3,
            82.63,
            117.8,
            78.41,
            72.49,
            70.92,
            59.75,
            97.53,
            96.71,
            76.39,
            59.6,
            102.9,
            80.88,
            70.95,
            74.2,
            98.22,
            75.46,
            89.46,
            61.93,
            63.19,
            67.49,
            68.79,
            70.47,
            80.98,
            102.1,
            81.47,
            133.8,
            123.7,
            94.89,
            91.12,
            82.67,
            89.78,
            88.68,
            89.59,
            71.73,
            112.4,
            88.37,
            66.82,
            117.5,
            77.61,
            117.3,
            95.88,
            94.25,
            138.1,
            76.83,
            127.7,
            76.77,
            93.86,
            80.62,
            86.34,
            74.87,
            84.1,
            82.61,
            61.68,
            111.2,
            186.9,
            92.25,
            73.88,
            84.28,
            86.87,
            85.98,
            61.06,
            119,
            76.38,
            61.49,
            76.85,
            96.45,
            77.42,
            70.41,
            82.89,
            92.41,
            88.97,
            73.99,
            109.8,
            78.29,
            88.73,
            87.32,
            87.76,
            102.8,
            82.85,
            94.21,
            128.1,
            75.49,
            107.1,
            78.18,
            114.6,
            118.4,
            78.83,
            84.06,
            96.12,
            82.69,
            80.45,
            121.3,
            137.8,
            98.73,
            92.33,
            81.25,
            152.1,
            61.49,
            64.12,
            79.47,
            71.25,
            104.7,
            103.8,
            76.31,
            94.66,
            88.64,
            94.29,
            97.26,
            72.76,
            120.8,
            130.5,
            84.45,
            82.51,
            59.96,
            165.5,
            71.3,
            88.73,
            63,
            54.53,
            87.44,
            78.94,
            90.31,
            77.83,
            75.89,
            75.21,
            87.76,
            134.7,
            70.79,
            137.8,
            93.77,
            76.37,
            47.98,
            48.34,
            74.65,
            95.81,
            94.7,
            84.88,
            89.77,
            87.19,
            65.31,
            65.85,
            61.05,
            68.89,
            68.51,
            71.49,
            81.35,
            59.01,
            82.5,
            65.67,
            64.73,
            59.26,
            96.39,
            74.52,
            91.38,
            70.67,
            103.4,
            143,
            142,
            131.2,
            108.3,
            140.1,
            47.92
           ]
          },
          {
           "axis": {
            "matches": true
           },
           "label": "mean area",
           "values": [
            1001,
            1326,
            1203,
            386.1,
            1297,
            477.1,
            1040,
            577.9,
            519.8,
            475.9,
            797.8,
            781,
            1123,
            782.7,
            578.3,
            658.8,
            684.5,
            798.8,
            1260,
            566.3,
            520,
            273.9,
            704.4,
            1404,
            904.6,
            912.7,
            644.8,
            1094,
            732.4,
            955.1,
            1088,
            440.6,
            899.3,
            1162,
            807.2,
            869.5,
            633,
            523.8,
            698.8,
            559.2,
            563,
            371.1,
            1104,
            545.2,
            531.5,
            1076,
            201.9,
            534.6,
            449.3,
            561,
            427.9,
            571.8,
            437.6,
            1033,
            712.8,
            409,
            1152,
            656.9,
            527.2,
            224.5,
            311.9,
            221.8,
            645.7,
            260.9,
            499,
            668.3,
            269.4,
            394.1,
            250.5,
            502.5,
            1130,
            244,
            929.4,
            584.1,
            470.9,
            817.7,
            559.2,
            1006,
            1245,
            506.3,
            401.5,
            520,
            1878,
            1132,
            443.3,
            1075,
            648.2,
            1076,
            466.1,
            651.9,
            662.7,
            728.2,
            551.7,
            555.1,
            705.6,
            1264,
            451.1,
            294.5,
            412.6,
            642.5,
            582.7,
            143.5,
            458.7,
            298.3,
            336.1,
            530.2,
            412.5,
            466.7,
            1509,
            396.5,
            290.2,
            480.4,
            629.9,
            334.2,
            230.9,
            438.6,
            245.2,
            682.5,
            782.6,
            982,
            403.3,
            1077,
            1761,
            640.7,
            553.5,
            588.7,
            572.6,
            1138,
            674.5,
            1192,
            455.8,
            748.9,
            809.8,
            761.7,
            1075,
            506.3,
            423.6,
            399.8,
            678.1,
            384.8,
            288.5,
            813,
            398,
            512.2,
            355.3,
            432.8,
            432,
            689.5,
            640.1,
            585,
            519.4,
            203.9,
            300.2,
            381.9,
            538.9,
            460.3,
            963.7,
            880.2,
            448.6,
            366.8,
            419.8,
            1157,
            1214,
            464.5,
            1686,
            690.2,
            357.6,
            886.3,
            984.6,
            685.9,
            464.1,
            565.4,
            736.9,
            372.7,
            349.6,
            227.2,
            302.4,
            832.9,
            526.4,
            508.8,
            2250,
            1311,
            766.6,
            402,
            710.6,
            317.5,
            1041,
            420.3,
            428.9,
            463.7,
            609.9,
            507.4,
            288.1,
            477.4,
            671.4,
            516.4,
            588.9,
            1024,
            1148,
            642.7,
            461,
            951.6,
            1685,
            597.8,
            481.9,
            716.6,
            295.4,
            904.3,
            529.4,
            725.5,
            1290,
            428,
            2499,
            948,
            610.7,
            578.9,
            432.2,
            321.2,
            1230,
            1223,
            568.9,
            561.3,
            313.1,
            761.3,
            546.4,
            641.2,
            329.6,
            684.5,
            496.4,
            503.2,
            895,
            395.7,
            386.8,
            1319,
            279.6,
            603.4,
            1670,
            1306,
            623.9,
            920.6,
            575.3,
            476.5,
            389.4,
            590,
            1155,
            337.7,
            541.6,
            512.2,
            347,
            406.3,
            1364,
            407.4,
            1206,
            928.2,
            1169,
            602.4,
            1207,
            713.3,
            773.5,
            744.9,
            1288,
            933.1,
            947.8,
            758.6,
            928.3,
            1419,
            346.4,
            561,
            512.2,
            344.9,
            632.6,
            388,
            1491,
            289.9,
            998.9,
            435.6,
            396.6,
            1102,
            572.3,
            587.4,
            1138,
            427.3,
            1145,
            805.1,
            516.6,
            489,
            441,
            515.9,
            394.1,
            396,
            651,
            687.3,
            513.7,
            432.7,
            492.1,
            582.7,
            363.7,
            431.1,
            633.1,
            334.2,
            1217,
            471.3,
            1247,
            334.3,
            403.1,
            417.2,
            537.3,
            246.3,
            566.2,
            530.6,
            418.7,
            664.9,
            504.1,
            409.1,
            221.2,
            481.6,
            461.4,
            1027,
            244.5,
            477.3,
            324.2,
            1274,
            504.8,
            1264,
            457.9,
            489.9,
            616.5,
            446,
            813.7,
            826.8,
            793.2,
            514,
            387.3,
            390,
            464.4,
            918.6,
            514.3,
            1092,
            310.8,
            1747,
            641.2,
            280.5,
            373.9,
            1194,
            420.3,
            321.6,
            445.3,
            668.7,
            402.7,
            426.7,
            421,
            758.6,
            2010,
            716.6,
            384.6,
            485.8,
            512,
            593.7,
            241,
            278.6,
            491.9,
            546.1,
            496.6,
            838.1,
            552.4,
            1293,
            1234,
            458.4,
            1546,
            1482,
            840.4,
            711.8,
            1386,
            1335,
            579.1,
            788.5,
            338.3,
            562.1,
            580.6,
            361.6,
            386.3,
            372.7,
            447.8,
            462.9,
            541.8,
            664.7,
            462,
            596.6,
            392,
            1174,
            321.6,
            234.3,
            744.7,
            1407,
            446.2,
            609.1,
            558.1,
            508.3,
            378.2,
            431.9,
            994,
            442.7,
            525.2,
            507.6,
            469.1,
            370,
            800,
            514.5,
            991.7,
            466.1,
            399.8,
            373.2,
            268.8,
            693.7,
            719.5,
            433.8,
            271.2,
            803.1,
            495,
            380.3,
            409.7,
            656.1,
            408.2,
            575.3,
            289.7,
            307.3,
            333.6,
            359.9,
            381.1,
            501.3,
            685,
            467.8,
            1250,
            1110,
            673.7,
            599.5,
            509.2,
            611.2,
            592.6,
            606.5,
            371.5,
            928.8,
            585.9,
            340.9,
            990,
            441.3,
            981.6,
            674.8,
            659.7,
            1384,
            432,
            1191,
            442.5,
            644.2,
            492.9,
            557.2,
            415.1,
            537.9,
            520.2,
            290.9,
            930.9,
            2501,
            646.1,
            412.7,
            537.3,
            542.9,
            536.9,
            286.3,
            980.5,
            408.8,
            289.1,
            449.9,
            686.9,
            465.4,
            358.9,
            506.9,
            618.4,
            599.4,
            404.9,
            815.8,
            455.3,
            602.9,
            546.3,
            571.1,
            747.2,
            476.7,
            666,
            1167,
            420.5,
            857.6,
            466.5,
            992.1,
            1007,
            477.3,
            538.7,
            680.9,
            485.6,
            480.1,
            1068,
            1320,
            689.4,
            595.9,
            476.3,
            1682,
            248.7,
            272.5,
            453.1,
            366.5,
            819.8,
            731.3,
            426,
            680.7,
            556.7,
            658.8,
            701.9,
            391.2,
            1052,
            1214,
            493.1,
            493.8,
            257.8,
            1841,
            388.1,
            571,
            293.2,
            221.3,
            551.1,
            468.5,
            594.2,
            445.2,
            422.9,
            416.2,
            575.5,
            1299,
            365.6,
            1308,
            629.8,
            406.4,
            178.8,
            170.4,
            402.9,
            656.4,
            668.6,
            538.4,
            584.8,
            573.2,
            324.9,
            320.8,
            285.7,
            361.6,
            360.5,
            378.4,
            507.9,
            264,
            514.3,
            321.4,
            311.7,
            271.3,
            657.1,
            403.5,
            600.4,
            386,
            716.9,
            1347,
            1479,
            1261,
            858.1,
            1265,
            181
           ]
          },
          {
           "axis": {
            "matches": true
           },
           "label": "mean smoothness",
           "values": [
            0.1184,
            0.08474,
            0.1096,
            0.1425,
            0.1003,
            0.1278,
            0.09463,
            0.1189,
            0.1273,
            0.1186,
            0.08206,
            0.0971,
            0.0974,
            0.08401,
            0.1131,
            0.1139,
            0.09867,
            0.117,
            0.09831,
            0.09779,
            0.1075,
            0.1024,
            0.1073,
            0.09428,
            0.1121,
            0.1186,
            0.1054,
            0.0944,
            0.1082,
            0.09847,
            0.1064,
            0.1109,
            0.1197,
            0.09401,
            0.104,
            0.0961,
            0.09823,
            0.08983,
            0.09387,
            0.1016,
            0.08162,
            0.1227,
            0.09081,
            0.1041,
            0.09714,
            0.1099,
            0.086,
            0.1158,
            0.1031,
            0.08752,
            0.08637,
            0.07685,
            0.08261,
            0.1148,
            0.09056,
            0.09524,
            0.1053,
            0.1137,
            0.0806,
            0.09752,
            0.1134,
            0.1243,
            0.1049,
            0.07721,
            0.1122,
            0.1172,
            0.1044,
            0.08139,
            0.1066,
            0.09831,
            0.09009,
            0.09783,
            0.1071,
            0.1007,
            0.09172,
            0.09168,
            0.1291,
            0.1065,
            0.1286,
            0.09934,
            0.1102,
            0.1078,
            0.1063,
            0.1215,
            0.09723,
            0.09874,
            0.09444,
            0.09029,
            0.08772,
            0.1132,
            0.08974,
            0.092,
            0.07355,
            0.1022,
            0.1039,
            0.09078,
            0.1045,
            0.1024,
            0.08983,
            0.09752,
            0.09488,
            0.117,
            0.08013,
            0.1005,
            0.09989,
            0.1398,
            0.1142,
            0.08477,
            0.1326,
            0.08759,
            0.1037,
            0.09933,
            0.07837,
            0.1122,
            0.115,
            0.09768,
            0.09462,
            0.1162,
            0.1155,
            0.08402,
            0.09373,
            0.1054,
            0.1447,
            0.1101,
            0.07115,
            0.08785,
            0.09258,
            0.08217,
            0.115,
            0.1015,
            0.1066,
            0.1092,
            0.1008,
            0.09462,
            0.0943,
            0.09055,
            0.1051,
            0.09639,
            0.1167,
            0.1164,
            0.0925,
            0.09721,
            0.1092,
            0.08677,
            0.07793,
            0.1152,
            0.1091,
            0.08138,
            0.0997,
            0.07944,
            0.1135,
            0.09405,
            0.1072,
            0.09754,
            0.09384,
            0.08654,
            0.1115,
            0.07445,
            0.09311,
            0.07515,
            0.1089,
            0.08694,
            0.112,
            0.1012,
            0.08439,
            0.08421,
            0.09594,
            0.08865,
            0.1049,
            0.09855,
            0.1028,
            0.09048,
            0.1257,
            0.1006,
            0.08792,
            0.09138,
            0.09699,
            0.09831,
            0.06251,
            0.08739,
            0.1094,
            0.1141,
            0.09597,
            0.09059,
            0.09057,
            0.09267,
            0.08588,
            0.09774,
            0.1007,
            0.0808,
            0.1075,
            0.08749,
            0.0695,
            0.1034,
            0.1044,
            0.07941,
            0.12,
            0.07371,
            0.08523,
            0.09872,
            0.09586,
            0.08968,
            0.1141,
            0.1323,
            0.09965,
            0.08876,
            0.1089,
            0.08772,
            0.1002,
            0.08182,
            0.0909,
            0.08871,
            0.1142,
            0.1006,
            0.09463,
            0.1026,
            0.09363,
            0.08054,
            0.09383,
            0.0842,
            0.09646,
            0.1051,
            0.1061,
            0.1025,
            0.08445,
            0.09906,
            0.1053,
            0.08371,
            0.07903,
            0.1088,
            0.1141,
            0.06883,
            0.0778,
            0.09159,
            0.08464,
            0.0907,
            0.09509,
            0.08355,
            0.08223,
            0.09812,
            0.09423,
            0.07926,
            0.09592,
            0.08043,
            0.1027,
            0.107,
            0.07215,
            0.0876,
            0.09657,
            0.1013,
            0.1007,
            0.09345,
            0.1062,
            0.1008,
            0.1035,
            0.1096,
            0.0926,
            0.1335,
            0.1109,
            0.1063,
            0.1,
            0.08662,
            0.08999,
            0.0784,
            0.09726,
            0.09469,
            0.09688,
            0.07956,
            0.09425,
            0.1082,
            0.06429,
            0.09834,
            0.09401,
            0.09037,
            0.08855,
            0.1225,
            0.09379,
            0.08923,
            0.07948,
            0.09516,
            0.102,
            0.07813,
            0.1037,
            0.1066,
            0.07818,
            0.08393,
            0.08605,
            0.06955,
            0.0802,
            0.08713,
            0.08757,
            0.08992,
            0.1005,
            0.08372,
            0.09667,
            0.09198,
            0.08518,
            0.09968,
            0.06576,
            0.1015,
            0.115,
            0.08451,
            0.108,
            0.1068,
            0.08853,
            0.07474,
            0.08511,
            0.07005,
            0.07376,
            0.08352,
            0.08814,
            0.07618,
            0.08794,
            0.08597,
            0.1074,
            0.08511,
            0.07734,
            0.09746,
            0.09968,
            0.07557,
            0.1061,
            0.0802,
            0.1134,
            0.117,
            0.08673,
            0.1028,
            0.09309,
            0.07683,
            0.1169,
            0.1165,
            0.09491,
            0.09579,
            0.1054,
            0.08306,
            0.08313,
            0.1119,
            0.09462,
            0.09116,
            0.1007,
            0.1069,
            0.09751,
            0.08481,
            0.1033,
            0.09797,
            0.115,
            0.09882,
            0.08386,
            0.08875,
            0.09076,
            0.1158,
            0.07561,
            0.1243,
            0.1149,
            0.1024,
            0.07274,
            0.0876,
            0.1082,
            0.08743,
            0.08293,
            0.1009,
            0.07436,
            0.08582,
            0.09676,
            0.09686,
            0.07937,
            0.0915,
            0.09905,
            0.09231,
            0.09384,
            0.1063,
            0.09742,
            0.07963,
            0.1001,
            0.09446,
            0.08302,
            0.0988,
            0.09073,
            0.07517,
            0.08268,
            0.1216,
            0.1237,
            0.07987,
            0.06935,
            0.1042,
            0.08363,
            0.08682,
            0.08108,
            0.07026,
            0.08365,
            0.101,
            0.09996,
            0.1039,
            0.116,
            0.1167,
            0.1029,
            0.08045,
            0.1059,
            0.08044,
            0.07741,
            0.09087,
            0.123,
            0.08872,
            0.07351,
            0.09879,
            0.08682,
            0.1004,
            0.09495,
            0.07551,
            0.1036,
            0.08685,
            0.08858,
            0.1077,
            0.07969,
            0.08515,
            0.0832,
            0.09773,
            0.1044,
            0.112,
            0.08785,
            0.1018,
            0.08546,
            0.1031,
            0.1088,
            0.09057,
            0.1075,
            0.08117,
            0.09816,
            0.08801,
            0.08151,
            0.07896,
            0.09947,
            0.1054,
            0.1133,
            0.1018,
            0.08924,
            0.106,
            0.09136,
            0.08458,
            0.08684,
            0.07966,
            0.08915,
            0.08331,
            0.08817,
            0.08142,
            0.08947,
            0.103,
            0.09997,
            0.09179,
            0.08388,
            0.09684,
            0.06613,
            0.1032,
            0.08437,
            0.1099,
            0.08583,
            0.09245,
            0.09357,
            0.08791,
            0.08369,
            0.07984,
            0.09898,
            0.1084,
            0.06995,
            0.08508,
            0.07466,
            0.08284,
            0.08675,
            0.08311,
            0.09289,
            0.1175,
            0.08946,
            0.08752,
            0.08098,
            0.07699,
            0.1007,
            0.0904,
            0.08931,
            0.06828,
            0.1046,
            0.1026,
            0.09087,
            0.07991,
            0.1071,
            0.0995,
            0.1043,
            0.09514,
            0.08641,
            0.1089,
            0.1128,
            0.07497,
            0.08192,
            0.07838,
            0.1001,
            0.07372,
            0.07335,
            0.09587,
            0.1076,
            0.08928,
            0.1012,
            0.1085,
            0.09883,
            0.1162,
            0.1158,
            0.09342,
            0.1634,
            0.1255,
            0.1096,
            0.1194,
            0.09427,
            0.1183,
            0.08099,
            0.08472,
            0.1106,
            0.09832,
            0.09215,
            0.1049,
            0.1068,
            0.1037,
            0.1218,
            0.1125,
            0.1371,
            0.103,
            0.08511,
            0.09916,
            0.09492,
            0.1036,
            0.1075,
            0.09003,
            0.1248,
            0.11,
            0.1073,
            0.1016,
            0.09277,
            0.09156,
            0.09687,
            0.1046,
            0.1038,
            0.1236,
            0.08098,
            0.08668,
            0.09984,
            0.08837,
            0.08275,
            0.08671,
            0.09578,
            0.09246,
            0.09434,
            0.08877,
            0.08491,
            0.08192,
            0.07431,
            0.09566,
            0.08276,
            0.0924,
            0.08123,
            0.0903,
            0.1003,
            0.08123,
            0.08473,
            0.09261,
            0.09929,
            0.07449,
            0.1048,
            0.1099,
            0.111,
            0.0978,
            0.08455,
            0.1178,
            0.05263
           ]
          }
         ],
         "hovertemplate": "%{xaxis.title.text}=%{x}<br>%{yaxis.title.text}=%{y}<extra></extra>",
         "legendgroup": "",
         "marker": {
          "color": "#636EFA",
          "size": 3,
          "symbol": "circle"
         },
         "name": "",
         "showlegend": false,
         "type": "splom"
        }
       ],
       "layout": {
        "dragmode": "select",
        "font": {
         "color": "#7f7f7f",
         "family": "Courier New, monospace",
         "size": 10
        },
        "height": 800,
        "legend": {
         "tracegroupgap": 0
        },
        "template": {
         "data": {
          "bar": [
           {
            "error_x": {
             "color": "#f2f5fa"
            },
            "error_y": {
             "color": "#f2f5fa"
            },
            "marker": {
             "line": {
              "color": "rgb(17,17,17)",
              "width": 0.5
             },
             "pattern": {
              "fillmode": "overlay",
              "size": 10,
              "solidity": 0.2
             }
            },
            "type": "bar"
           }
          ],
          "barpolar": [
           {
            "marker": {
             "line": {
              "color": "rgb(17,17,17)",
              "width": 0.5
             },
             "pattern": {
              "fillmode": "overlay",
              "size": 10,
              "solidity": 0.2
             }
            },
            "type": "barpolar"
           }
          ],
          "carpet": [
           {
            "aaxis": {
             "endlinecolor": "#A2B1C6",
             "gridcolor": "#506784",
             "linecolor": "#506784",
             "minorgridcolor": "#506784",
             "startlinecolor": "#A2B1C6"
            },
            "baxis": {
             "endlinecolor": "#A2B1C6",
             "gridcolor": "#506784",
             "linecolor": "#506784",
             "minorgridcolor": "#506784",
             "startlinecolor": "#A2B1C6"
            },
            "type": "carpet"
           }
          ],
          "choropleth": [
           {
            "colorbar": {
             "outlinewidth": 0,
             "ticks": ""
            },
            "type": "choropleth"
           }
          ],
          "contour": [
           {
            "colorbar": {
             "outlinewidth": 0,
             "ticks": ""
            },
            "colorscale": [
             [
              0,
              "#0d0887"
             ],
             [
              0.1111111111111111,
              "#46039f"
             ],
             [
              0.2222222222222222,
              "#7201a8"
             ],
             [
              0.3333333333333333,
              "#9c179e"
             ],
             [
              0.4444444444444444,
              "#bd3786"
             ],
             [
              0.5555555555555556,
              "#d8576b"
             ],
             [
              0.6666666666666666,
              "#ed7953"
             ],
             [
              0.7777777777777778,
              "#fb9f3a"
             ],
             [
              0.8888888888888888,
              "#fdca26"
             ],
             [
              1,
              "#f0f921"
             ]
            ],
            "type": "contour"
           }
          ],
          "contourcarpet": [
           {
            "colorbar": {
             "outlinewidth": 0,
             "ticks": ""
            },
            "type": "contourcarpet"
           }
          ],
          "heatmap": [
           {
            "colorbar": {
             "outlinewidth": 0,
             "ticks": ""
            },
            "colorscale": [
             [
              0,
              "#0d0887"
             ],
             [
              0.1111111111111111,
              "#46039f"
             ],
             [
              0.2222222222222222,
              "#7201a8"
             ],
             [
              0.3333333333333333,
              "#9c179e"
             ],
             [
              0.4444444444444444,
              "#bd3786"
             ],
             [
              0.5555555555555556,
              "#d8576b"
             ],
             [
              0.6666666666666666,
              "#ed7953"
             ],
             [
              0.7777777777777778,
              "#fb9f3a"
             ],
             [
              0.8888888888888888,
              "#fdca26"
             ],
             [
              1,
              "#f0f921"
             ]
            ],
            "type": "heatmap"
           }
          ],
          "heatmapgl": [
           {
            "colorbar": {
             "outlinewidth": 0,
             "ticks": ""
            },
            "colorscale": [
             [
              0,
              "#0d0887"
             ],
             [
              0.1111111111111111,
              "#46039f"
             ],
             [
              0.2222222222222222,
              "#7201a8"
             ],
             [
              0.3333333333333333,
              "#9c179e"
             ],
             [
              0.4444444444444444,
              "#bd3786"
             ],
             [
              0.5555555555555556,
              "#d8576b"
             ],
             [
              0.6666666666666666,
              "#ed7953"
             ],
             [
              0.7777777777777778,
              "#fb9f3a"
             ],
             [
              0.8888888888888888,
              "#fdca26"
             ],
             [
              1,
              "#f0f921"
             ]
            ],
            "type": "heatmapgl"
           }
          ],
          "histogram": [
           {
            "marker": {
             "pattern": {
              "fillmode": "overlay",
              "size": 10,
              "solidity": 0.2
             }
            },
            "type": "histogram"
           }
          ],
          "histogram2d": [
           {
            "colorbar": {
             "outlinewidth": 0,
             "ticks": ""
            },
            "colorscale": [
             [
              0,
              "#0d0887"
             ],
             [
              0.1111111111111111,
              "#46039f"
             ],
             [
              0.2222222222222222,
              "#7201a8"
             ],
             [
              0.3333333333333333,
              "#9c179e"
             ],
             [
              0.4444444444444444,
              "#bd3786"
             ],
             [
              0.5555555555555556,
              "#d8576b"
             ],
             [
              0.6666666666666666,
              "#ed7953"
             ],
             [
              0.7777777777777778,
              "#fb9f3a"
             ],
             [
              0.8888888888888888,
              "#fdca26"
             ],
             [
              1,
              "#f0f921"
             ]
            ],
            "type": "histogram2d"
           }
          ],
          "histogram2dcontour": [
           {
            "colorbar": {
             "outlinewidth": 0,
             "ticks": ""
            },
            "colorscale": [
             [
              0,
              "#0d0887"
             ],
             [
              0.1111111111111111,
              "#46039f"
             ],
             [
              0.2222222222222222,
              "#7201a8"
             ],
             [
              0.3333333333333333,
              "#9c179e"
             ],
             [
              0.4444444444444444,
              "#bd3786"
             ],
             [
              0.5555555555555556,
              "#d8576b"
             ],
             [
              0.6666666666666666,
              "#ed7953"
             ],
             [
              0.7777777777777778,
              "#fb9f3a"
             ],
             [
              0.8888888888888888,
              "#fdca26"
             ],
             [
              1,
              "#f0f921"
             ]
            ],
            "type": "histogram2dcontour"
           }
          ],
          "mesh3d": [
           {
            "colorbar": {
             "outlinewidth": 0,
             "ticks": ""
            },
            "type": "mesh3d"
           }
          ],
          "parcoords": [
           {
            "line": {
             "colorbar": {
              "outlinewidth": 0,
              "ticks": ""
             }
            },
            "type": "parcoords"
           }
          ],
          "pie": [
           {
            "automargin": true,
            "type": "pie"
           }
          ],
          "scatter": [
           {
            "marker": {
             "line": {
              "color": "#283442"
             }
            },
            "type": "scatter"
           }
          ],
          "scatter3d": [
           {
            "line": {
             "colorbar": {
              "outlinewidth": 0,
              "ticks": ""
             }
            },
            "marker": {
             "colorbar": {
              "outlinewidth": 0,
              "ticks": ""
             }
            },
            "type": "scatter3d"
           }
          ],
          "scattercarpet": [
           {
            "marker": {
             "colorbar": {
              "outlinewidth": 0,
              "ticks": ""
             }
            },
            "type": "scattercarpet"
           }
          ],
          "scattergeo": [
           {
            "marker": {
             "colorbar": {
              "outlinewidth": 0,
              "ticks": ""
             }
            },
            "type": "scattergeo"
           }
          ],
          "scattergl": [
           {
            "marker": {
             "line": {
              "color": "#283442"
             }
            },
            "type": "scattergl"
           }
          ],
          "scattermapbox": [
           {
            "marker": {
             "colorbar": {
              "outlinewidth": 0,
              "ticks": ""
             }
            },
            "type": "scattermapbox"
           }
          ],
          "scatterpolar": [
           {
            "marker": {
             "colorbar": {
              "outlinewidth": 0,
              "ticks": ""
             }
            },
            "type": "scatterpolar"
           }
          ],
          "scatterpolargl": [
           {
            "marker": {
             "colorbar": {
              "outlinewidth": 0,
              "ticks": ""
             }
            },
            "type": "scatterpolargl"
           }
          ],
          "scatterternary": [
           {
            "marker": {
             "colorbar": {
              "outlinewidth": 0,
              "ticks": ""
             }
            },
            "type": "scatterternary"
           }
          ],
          "surface": [
           {
            "colorbar": {
             "outlinewidth": 0,
             "ticks": ""
            },
            "colorscale": [
             [
              0,
              "#0d0887"
             ],
             [
              0.1111111111111111,
              "#46039f"
             ],
             [
              0.2222222222222222,
              "#7201a8"
             ],
             [
              0.3333333333333333,
              "#9c179e"
             ],
             [
              0.4444444444444444,
              "#bd3786"
             ],
             [
              0.5555555555555556,
              "#d8576b"
             ],
             [
              0.6666666666666666,
              "#ed7953"
             ],
             [
              0.7777777777777778,
              "#fb9f3a"
             ],
             [
              0.8888888888888888,
              "#fdca26"
             ],
             [
              1,
              "#f0f921"
             ]
            ],
            "type": "surface"
           }
          ],
          "table": [
           {
            "cells": {
             "fill": {
              "color": "#506784"
             },
             "line": {
              "color": "rgb(17,17,17)"
             }
            },
            "header": {
             "fill": {
              "color": "#2a3f5f"
             },
             "line": {
              "color": "rgb(17,17,17)"
             }
            },
            "type": "table"
           }
          ]
         },
         "layout": {
          "annotationdefaults": {
           "arrowcolor": "#f2f5fa",
           "arrowhead": 0,
           "arrowwidth": 1
          },
          "autotypenumbers": "strict",
          "coloraxis": {
           "colorbar": {
            "outlinewidth": 0,
            "ticks": ""
           }
          },
          "colorscale": {
           "diverging": [
            [
             0,
             "#8e0152"
            ],
            [
             0.1,
             "#c51b7d"
            ],
            [
             0.2,
             "#de77ae"
            ],
            [
             0.3,
             "#f1b6da"
            ],
            [
             0.4,
             "#fde0ef"
            ],
            [
             0.5,
             "#f7f7f7"
            ],
            [
             0.6,
             "#e6f5d0"
            ],
            [
             0.7,
             "#b8e186"
            ],
            [
             0.8,
             "#7fbc41"
            ],
            [
             0.9,
             "#4d9221"
            ],
            [
             1,
             "#276419"
            ]
           ],
           "sequential": [
            [
             0,
             "#0d0887"
            ],
            [
             0.1111111111111111,
             "#46039f"
            ],
            [
             0.2222222222222222,
             "#7201a8"
            ],
            [
             0.3333333333333333,
             "#9c179e"
            ],
            [
             0.4444444444444444,
             "#bd3786"
            ],
            [
             0.5555555555555556,
             "#d8576b"
            ],
            [
             0.6666666666666666,
             "#ed7953"
            ],
            [
             0.7777777777777778,
             "#fb9f3a"
            ],
            [
             0.8888888888888888,
             "#fdca26"
            ],
            [
             1,
             "#f0f921"
            ]
           ],
           "sequentialminus": [
            [
             0,
             "#0d0887"
            ],
            [
             0.1111111111111111,
             "#46039f"
            ],
            [
             0.2222222222222222,
             "#7201a8"
            ],
            [
             0.3333333333333333,
             "#9c179e"
            ],
            [
             0.4444444444444444,
             "#bd3786"
            ],
            [
             0.5555555555555556,
             "#d8576b"
            ],
            [
             0.6666666666666666,
             "#ed7953"
            ],
            [
             0.7777777777777778,
             "#fb9f3a"
            ],
            [
             0.8888888888888888,
             "#fdca26"
            ],
            [
             1,
             "#f0f921"
            ]
           ]
          },
          "colorway": [
           "#636efa",
           "#EF553B",
           "#00cc96",
           "#ab63fa",
           "#FFA15A",
           "#19d3f3",
           "#FF6692",
           "#B6E880",
           "#FF97FF",
           "#FECB52"
          ],
          "font": {
           "color": "#f2f5fa"
          },
          "geo": {
           "bgcolor": "rgb(17,17,17)",
           "lakecolor": "rgb(17,17,17)",
           "landcolor": "rgb(17,17,17)",
           "showlakes": true,
           "showland": true,
           "subunitcolor": "#506784"
          },
          "hoverlabel": {
           "align": "left"
          },
          "hovermode": "closest",
          "mapbox": {
           "style": "dark"
          },
          "paper_bgcolor": "rgb(17,17,17)",
          "plot_bgcolor": "rgb(17,17,17)",
          "polar": {
           "angularaxis": {
            "gridcolor": "#506784",
            "linecolor": "#506784",
            "ticks": ""
           },
           "bgcolor": "rgb(17,17,17)",
           "radialaxis": {
            "gridcolor": "#506784",
            "linecolor": "#506784",
            "ticks": ""
           }
          },
          "scene": {
           "xaxis": {
            "backgroundcolor": "rgb(17,17,17)",
            "gridcolor": "#506784",
            "gridwidth": 2,
            "linecolor": "#506784",
            "showbackground": true,
            "ticks": "",
            "zerolinecolor": "#C8D4E3"
           },
           "yaxis": {
            "backgroundcolor": "rgb(17,17,17)",
            "gridcolor": "#506784",
            "gridwidth": 2,
            "linecolor": "#506784",
            "showbackground": true,
            "ticks": "",
            "zerolinecolor": "#C8D4E3"
           },
           "zaxis": {
            "backgroundcolor": "rgb(17,17,17)",
            "gridcolor": "#506784",
            "gridwidth": 2,
            "linecolor": "#506784",
            "showbackground": true,
            "ticks": "",
            "zerolinecolor": "#C8D4E3"
           }
          },
          "shapedefaults": {
           "line": {
            "color": "#f2f5fa"
           }
          },
          "sliderdefaults": {
           "bgcolor": "#C8D4E3",
           "bordercolor": "rgb(17,17,17)",
           "borderwidth": 1,
           "tickwidth": 0
          },
          "ternary": {
           "aaxis": {
            "gridcolor": "#506784",
            "linecolor": "#506784",
            "ticks": ""
           },
           "baxis": {
            "gridcolor": "#506784",
            "linecolor": "#506784",
            "ticks": ""
           },
           "bgcolor": "rgb(17,17,17)",
           "caxis": {
            "gridcolor": "#506784",
            "linecolor": "#506784",
            "ticks": ""
           }
          },
          "title": {
           "x": 0.05
          },
          "updatemenudefaults": {
           "bgcolor": "#506784",
           "borderwidth": 0
          },
          "xaxis": {
           "automargin": true,
           "gridcolor": "#283442",
           "linecolor": "#506784",
           "ticks": "",
           "title": {
            "standoff": 15
           },
           "zerolinecolor": "#283442",
           "zerolinewidth": 2
          },
          "yaxis": {
           "automargin": true,
           "gridcolor": "#283442",
           "linecolor": "#506784",
           "ticks": "",
           "title": {
            "standoff": 15
           },
           "zerolinecolor": "#283442",
           "zerolinewidth": 2
          }
         }
        },
        "title": {
         "font": {
          "size": 20
         },
         "text": "Scatter matrix of selected features"
        },
        "width": 800
       }
      }
     },
     "metadata": {},
     "output_type": "display_data"
    }
   ],
   "source": [
    "selected_features = ['mean radius', 'mean texture', 'mean perimeter', 'mean area', 'mean smoothness']\n",
    "fig = px.scatter_matrix(df[selected_features], title='Scatter matrix of selected features', template='plotly_dark')\n",
    "\n",
    "# Customize the scatter matrix plot\n",
    "fig.update_traces(marker=dict(size=3, color='#636EFA'), diagonal_visible=False)\n",
    "fig.update_layout(\n",
    "    title_font=dict(size=20),\n",
    "    font=dict(family='Courier New, monospace', size=10, color='#7f7f7f'),\n",
    "    width=800,\n",
    "    height=800\n",
    ")\n",
    "\n",
    "fig.show()"
   ]
  },
  {
   "cell_type": "markdown",
   "metadata": {},
   "source": [
    "## **Fit XGBoost**"
   ]
  },
  {
   "cell_type": "code",
   "execution_count": 9,
   "metadata": {},
   "outputs": [
    {
     "name": "stdout",
     "output_type": "stream",
     "text": [
      "Test Accuracy: 95.61%\n",
      "              precision    recall  f1-score   support\n",
      "\n",
      "           0       0.93      0.95      0.94        43\n",
      "           1       0.97      0.96      0.96        71\n",
      "\n",
      "    accuracy                           0.96       114\n",
      "   macro avg       0.95      0.96      0.95       114\n",
      "weighted avg       0.96      0.96      0.96       114\n",
      "\n"
     ]
    }
   ],
   "source": [
    "X, y = data.data, data.target\n",
    "X_train, X_test, y_train, y_test = train_test_split(X,y, test_size = 0.2, random_state = 42)\n",
    "\n",
    "xgb = XGBoostClassifier(random_state=42)\n",
    "xgb.fit(X_train, y_train, depth = 5, min_leaf = 5, lambda_ = 1.5, gamma = 1, eps = 0.1, min_child_weight = 1, subsample_cols = 0.8, learning_rate = 0.4, boosting_rounds = 5)\n",
    "y_pred = xgb.predict(X_test)\n",
    "print(f\"Test Accuracy: {np.mean(y_pred == y_test):.2%}\")\n",
    "print(classification_report(y_test, y_pred))"
   ]
  },
  {
   "cell_type": "code",
   "execution_count": 10,
   "metadata": {},
   "outputs": [
    {
     "name": "stderr",
     "output_type": "stream",
     "text": [
      "[I 2024-01-10 11:29:33,881] A new study created in memory with name: no-name-fff7c5a4-0285-48d3-bb63-556f7bfe88be\n",
      "[I 2024-01-10 11:29:36,035] Trial 0 finished with value: 0.9473684210526315 and parameters: {'depth': 3, 'min_leaf': 10, 'lambda_': 1.8837519939791678, 'gamma': 1.9326730633196363, 'eps': 0.12256918818403406, 'min_child_weight': 4, 'subsample_cols': 0.5257156428787195, 'learning_rate': 0.2901709548391574, 'boosting_rounds': 6}. Best is trial 0 with value: 0.9473684210526315.\n",
      "[I 2024-01-10 11:29:39,921] Trial 1 finished with value: 0.868421052631579 and parameters: {'depth': 8, 'min_leaf': 6, 'lambda_': 0.36060611230704076, 'gamma': 1.846850132917239, 'eps': 0.2364774657260346, 'min_child_weight': 6, 'subsample_cols': 0.9376645896648708, 'learning_rate': 0.954536873479931, 'boosting_rounds': 5}. Best is trial 0 with value: 0.9473684210526315.\n",
      "[I 2024-01-10 11:29:42,257] Trial 2 finished with value: 0.9473684210526315 and parameters: {'depth': 7, 'min_leaf': 9, 'lambda_': 0.18871441767328337, 'gamma': 0.4647923212573605, 'eps': 0.4626819136346244, 'min_child_weight': 8, 'subsample_cols': 0.55926598905196, 'learning_rate': 0.33026869836340117, 'boosting_rounds': 6}. Best is trial 0 with value: 0.9473684210526315.\n",
      "[I 2024-01-10 11:29:44,128] Trial 3 finished with value: 0.956140350877193 and parameters: {'depth': 9, 'min_leaf': 3, 'lambda_': 0.680610876793632, 'gamma': 1.557954705378749, 'eps': 0.418189028299309, 'min_child_weight': 6, 'subsample_cols': 0.5356702605264945, 'learning_rate': 0.26965551424112355, 'boosting_rounds': 4}. Best is trial 3 with value: 0.956140350877193.\n",
      "[I 2024-01-10 11:29:52,667] Trial 4 finished with value: 0.9385964912280702 and parameters: {'depth': 10, 'min_leaf': 5, 'lambda_': 0.6785220276077152, 'gamma': 0.18570768400765225, 'eps': 0.2755012234719525, 'min_child_weight': 1, 'subsample_cols': 0.6543554272234244, 'learning_rate': 0.6790921767876401, 'boosting_rounds': 8}. Best is trial 3 with value: 0.956140350877193.\n",
      "[I 2024-01-10 11:29:55,132] Trial 5 finished with value: 0.9649122807017544 and parameters: {'depth': 7, 'min_leaf': 2, 'lambda_': 1.0829617552292672, 'gamma': 0.4342859807341465, 'eps': 0.2938299738146402, 'min_child_weight': 2, 'subsample_cols': 0.6996408919284733, 'learning_rate': 0.4194535139812501, 'boosting_rounds': 3}. Best is trial 5 with value: 0.9649122807017544.\n",
      "[I 2024-01-10 11:29:58,088] Trial 6 finished with value: 0.9122807017543859 and parameters: {'depth': 6, 'min_leaf': 8, 'lambda_': 1.0871034115359437, 'gamma': 1.3343094591777238, 'eps': 0.44314172424821846, 'min_child_weight': 7, 'subsample_cols': 0.8147712898765599, 'learning_rate': 0.9135228198126929, 'boosting_rounds': 5}. Best is trial 5 with value: 0.9649122807017544.\n",
      "[I 2024-01-10 11:30:03,225] Trial 7 finished with value: 0.9122807017543859 and parameters: {'depth': 7, 'min_leaf': 1, 'lambda_': 1.4935870331640198, 'gamma': 0.5629524309002316, 'eps': 0.4769367229011085, 'min_child_weight': 8, 'subsample_cols': 0.7503779008691946, 'learning_rate': 0.2668365866428355, 'boosting_rounds': 9}. Best is trial 5 with value: 0.9649122807017544.\n",
      "[I 2024-01-10 11:30:08,376] Trial 8 finished with value: 0.9473684210526315 and parameters: {'depth': 6, 'min_leaf': 4, 'lambda_': 1.210688349837596, 'gamma': 0.8583706144167854, 'eps': 0.16262323222343628, 'min_child_weight': 6, 'subsample_cols': 0.6453480741860826, 'learning_rate': 0.6960792471449857, 'boosting_rounds': 10}. Best is trial 5 with value: 0.9649122807017544.\n",
      "[I 2024-01-10 11:30:11,379] Trial 9 finished with value: 0.8859649122807017 and parameters: {'depth': 5, 'min_leaf': 5, 'lambda_': 1.9190617408610273, 'gamma': 1.938461354637322, 'eps': 0.14714806616080398, 'min_child_weight': 9, 'subsample_cols': 0.9338744185703332, 'learning_rate': 0.18888153896525056, 'boosting_rounds': 5}. Best is trial 5 with value: 0.9649122807017544.\n",
      "[I 2024-01-10 11:30:13,698] Trial 10 finished with value: 0.956140350877193 and parameters: {'depth': 4, 'min_leaf': 1, 'lambda_': 1.4147294649291882, 'gamma': 0.10704013019772096, 'eps': 0.061694229396454386, 'min_child_weight': 1, 'subsample_cols': 0.830742418262602, 'learning_rate': 0.49485898853205046, 'boosting_rounds': 3}. Best is trial 5 with value: 0.9649122807017544.\n",
      "[I 2024-01-10 11:30:15,740] Trial 11 finished with value: 0.9473684210526315 and parameters: {'depth': 9, 'min_leaf': 3, 'lambda_': 0.7601487942692715, 'gamma': 1.2493491122070677, 'eps': 0.3471305182858102, 'min_child_weight': 4, 'subsample_cols': 0.6248548431135975, 'learning_rate': 0.4299898426908067, 'boosting_rounds': 3}. Best is trial 5 with value: 0.9649122807017544.\n",
      "[I 2024-01-10 11:30:17,660] Trial 12 finished with value: 0.9649122807017544 and parameters: {'depth': 9, 'min_leaf': 3, 'lambda_': 0.7805954302045186, 'gamma': 1.5083290840988517, 'eps': 0.3564700893061117, 'min_child_weight': 3, 'subsample_cols': 0.5224278996202384, 'learning_rate': 0.15456456642554905, 'boosting_rounds': 3}. Best is trial 5 with value: 0.9649122807017544.\n",
      "[I 2024-01-10 11:30:20,353] Trial 13 finished with value: 0.956140350877193 and parameters: {'depth': 8, 'min_leaf': 2, 'lambda_': 0.8906888430724932, 'gamma': 0.9290666545944087, 'eps': 0.35008785264021536, 'min_child_weight': 3, 'subsample_cols': 0.6997018158740044, 'learning_rate': 0.10331604118227555, 'boosting_rounds': 3}. Best is trial 5 with value: 0.9649122807017544.\n",
      "[I 2024-01-10 11:30:23,356] Trial 14 finished with value: 0.9473684210526315 and parameters: {'depth': 10, 'min_leaf': 3, 'lambda_': 0.5595382585836415, 'gamma': 1.0877613868875913, 'eps': 0.30401866434655445, 'min_child_weight': 3, 'subsample_cols': 0.6078879852517559, 'learning_rate': 0.3969435120735249, 'boosting_rounds': 4}. Best is trial 5 with value: 0.9649122807017544.\n",
      "[I 2024-01-10 11:30:27,754] Trial 15 finished with value: 0.9649122807017544 and parameters: {'depth': 8, 'min_leaf': 7, 'lambda_': 0.9326640170336926, 'gamma': 1.467028065215887, 'eps': 0.380384362626983, 'min_child_weight': 2, 'subsample_cols': 0.5031985570780932, 'learning_rate': 0.10184012095016437, 'boosting_rounds': 7}. Best is trial 5 with value: 0.9649122807017544.\n",
      "[I 2024-01-10 11:30:30,155] Trial 16 finished with value: 0.9473684210526315 and parameters: {'depth': 9, 'min_leaf': 2, 'lambda_': 0.500606535730917, 'gamma': 0.7830650423200627, 'eps': 0.24139869949901643, 'min_child_weight': 4, 'subsample_cols': 0.5775594259956663, 'learning_rate': 0.5381471309814936, 'boosting_rounds': 4}. Best is trial 5 with value: 0.9649122807017544.\n",
      "[I 2024-01-10 11:30:32,192] Trial 17 finished with value: 0.9736842105263158 and parameters: {'depth': 5, 'min_leaf': 4, 'lambda_': 1.108237040552457, 'gamma': 1.6249386096671368, 'eps': 0.3936850691142478, 'min_child_weight': 2, 'subsample_cols': 0.6933452380097069, 'learning_rate': 0.20522781795497688, 'boosting_rounds': 3}. Best is trial 17 with value: 0.9736842105263158.\n",
      "[I 2024-01-10 11:30:36,963] Trial 18 finished with value: 0.956140350877193 and parameters: {'depth': 5, 'min_leaf': 6, 'lambda_': 1.1064403517400772, 'gamma': 1.706906783286374, 'eps': 0.4906919579559388, 'min_child_weight': 2, 'subsample_cols': 0.703667031248543, 'learning_rate': 0.377516512411581, 'boosting_rounds': 7}. Best is trial 17 with value: 0.9736842105263158.\n",
      "[I 2024-01-10 11:30:38,717] Trial 19 finished with value: 0.9298245614035088 and parameters: {'depth': 5, 'min_leaf': 4, 'lambda_': 1.2268902790475655, 'gamma': 1.1469387939055184, 'eps': 0.40657862701455527, 'min_child_weight': 10, 'subsample_cols': 0.748309197633104, 'learning_rate': 0.21362117801005437, 'boosting_rounds': 4}. Best is trial 17 with value: 0.9736842105263158.\n"
     ]
    }
   ],
   "source": [
    "def objective(trial):\n",
    "    depth = trial.suggest_int('depth', 3, 10)\n",
    "    min_leaf = trial.suggest_int('min_leaf', 1, 10)\n",
    "    lambda_ = trial.suggest_float('lambda_', 0.1, 2.0)\n",
    "    gamma = trial.suggest_float('gamma', 0.1, 2.0)\n",
    "    eps = trial.suggest_float('eps', 0.01, 0.5)\n",
    "    min_child_weight = trial.suggest_int('min_child_weight', 1, 10)\n",
    "    subsample_cols = trial.suggest_float('subsample_cols', 0.5, 1.0)\n",
    "    learning_rate = trial.suggest_float('learning_rate', 0.1, 1.0)\n",
    "    boosting_rounds = trial.suggest_int('boosting_rounds', 3, 10)\n",
    "    \n",
    "    xgb = XGBoostClassifier(random_state=42)\n",
    "    xgb.fit(X_train, y_train, depth=depth, min_leaf=min_leaf, lambda_=lambda_, gamma=gamma, eps=eps, min_child_weight=min_child_weight, subsample_cols=subsample_cols, learning_rate=learning_rate, boosting_rounds=boosting_rounds)\n",
    "    y_pred = xgb.predict(X_test)\n",
    "    accuracy = (y_test == y_pred).mean()\n",
    "    \n",
    "    return accuracy\n",
    "\n",
    "study = optuna.create_study(direction='maximize')\n",
    "study.optimize(objective, n_trials=20)\n",
    "\n",
    "best_params = study.best_params\n",
    "best_accuracy = study.best_value\n"
   ]
  },
  {
   "cell_type": "code",
   "execution_count": 11,
   "metadata": {},
   "outputs": [
    {
     "name": "stdout",
     "output_type": "stream",
     "text": [
      "Best Parameters: {'depth': 5, 'min_leaf': 4, 'lambda_': 1.108237040552457, 'gamma': 1.6249386096671368, 'eps': 0.3936850691142478, 'min_child_weight': 2, 'subsample_cols': 0.6933452380097069, 'learning_rate': 0.20522781795497688, 'boosting_rounds': 3}\n",
      "Best Accuracy on Test Data: 97.37%\n",
      "              precision    recall  f1-score   support\n",
      "\n",
      "           0       0.93      0.95      0.94        43\n",
      "           1       0.97      0.96      0.96        71\n",
      "\n",
      "    accuracy                           0.96       114\n",
      "   macro avg       0.95      0.96      0.95       114\n",
      "weighted avg       0.96      0.96      0.96       114\n",
      "\n"
     ]
    }
   ],
   "source": [
    "print(\"Best Parameters:\", best_params)\n",
    "print(f\"Best Accuracy on Test Data: {best_accuracy:.2%}\")\n",
    "print(classification_report(y_test, y_pred))"
   ]
  }
 ],
 "metadata": {
  "kernelspec": {
   "display_name": "Python 3",
   "language": "python",
   "name": "python3"
  },
  "language_info": {
   "codemirror_mode": {
    "name": "ipython",
    "version": 3
   },
   "file_extension": ".py",
   "mimetype": "text/x-python",
   "name": "python",
   "nbconvert_exporter": "python",
   "pygments_lexer": "ipython3",
   "version": "3.11.1"
  }
 },
 "nbformat": 4,
 "nbformat_minor": 2
}
